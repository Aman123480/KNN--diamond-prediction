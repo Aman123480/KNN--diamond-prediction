{
 "cells": [
  {
   "cell_type": "code",
   "execution_count": 4,
   "id": "67a28134",
   "metadata": {},
   "outputs": [],
   "source": [
    "import numpy as np\n",
    "import pandas as pd\n",
    "import matplotlib.pyplot as plt\n",
    "import seaborn as sns"
   ]
  },
  {
   "cell_type": "code",
   "execution_count": 5,
   "id": "eb847ba8",
   "metadata": {},
   "outputs": [
    {
     "data": {
      "text/html": [
       "<div><div id=62f2b472-9b06-40b7-8584-7d05bba948bd style=\"display:none; background-color:#9D6CFF; color:white; width:200px; height:30px; padding-left:5px; border-radius:4px; flex-direction:row; justify-content:space-around; align-items:center;\" onmouseover=\"this.style.backgroundColor='#BA9BF8'\" onmouseout=\"this.style.backgroundColor='#9D6CFF'\" onclick=\"window.commands?.execute('create-mitosheet-from-dataframe-output');\">See Full Dataframe in Mito</div> <script> if (window.commands?.hasCommand('create-mitosheet-from-dataframe-output')) document.getElementById('62f2b472-9b06-40b7-8584-7d05bba948bd').style.display = 'flex' </script> <table border=\"1\" class=\"dataframe\">\n",
       "  <thead>\n",
       "    <tr style=\"text-align: right;\">\n",
       "      <th></th>\n",
       "      <th>carat</th>\n",
       "      <th>cut</th>\n",
       "      <th>color</th>\n",
       "      <th>clarity</th>\n",
       "      <th>depth</th>\n",
       "      <th>table</th>\n",
       "      <th>price</th>\n",
       "      <th>x</th>\n",
       "      <th>y</th>\n",
       "      <th>z</th>\n",
       "    </tr>\n",
       "  </thead>\n",
       "  <tbody>\n",
       "    <tr>\n",
       "      <th>0</th>\n",
       "      <td>0.23</td>\n",
       "      <td>Ideal</td>\n",
       "      <td>E</td>\n",
       "      <td>SI2</td>\n",
       "      <td>61.5</td>\n",
       "      <td>55.0</td>\n",
       "      <td>326</td>\n",
       "      <td>3.95</td>\n",
       "      <td>3.98</td>\n",
       "      <td>2.43</td>\n",
       "    </tr>\n",
       "    <tr>\n",
       "      <th>1</th>\n",
       "      <td>0.21</td>\n",
       "      <td>Premium</td>\n",
       "      <td>E</td>\n",
       "      <td>SI1</td>\n",
       "      <td>59.8</td>\n",
       "      <td>61.0</td>\n",
       "      <td>326</td>\n",
       "      <td>3.89</td>\n",
       "      <td>3.84</td>\n",
       "      <td>2.31</td>\n",
       "    </tr>\n",
       "    <tr>\n",
       "      <th>2</th>\n",
       "      <td>0.23</td>\n",
       "      <td>Good</td>\n",
       "      <td>E</td>\n",
       "      <td>VS1</td>\n",
       "      <td>56.9</td>\n",
       "      <td>65.0</td>\n",
       "      <td>327</td>\n",
       "      <td>4.05</td>\n",
       "      <td>4.07</td>\n",
       "      <td>2.31</td>\n",
       "    </tr>\n",
       "    <tr>\n",
       "      <th>3</th>\n",
       "      <td>0.29</td>\n",
       "      <td>Premium</td>\n",
       "      <td>I</td>\n",
       "      <td>VS2</td>\n",
       "      <td>62.4</td>\n",
       "      <td>58.0</td>\n",
       "      <td>334</td>\n",
       "      <td>4.20</td>\n",
       "      <td>4.23</td>\n",
       "      <td>2.63</td>\n",
       "    </tr>\n",
       "    <tr>\n",
       "      <th>4</th>\n",
       "      <td>0.31</td>\n",
       "      <td>Good</td>\n",
       "      <td>J</td>\n",
       "      <td>SI2</td>\n",
       "      <td>63.3</td>\n",
       "      <td>58.0</td>\n",
       "      <td>335</td>\n",
       "      <td>4.34</td>\n",
       "      <td>4.35</td>\n",
       "      <td>2.75</td>\n",
       "    </tr>\n",
       "  </tbody>\n",
       "</table></div>"
      ],
      "text/plain": [
       "   carat      cut color clarity  depth  table  price     x     y     z\n",
       "0   0.23    Ideal     E     SI2   61.5   55.0    326  3.95  3.98  2.43\n",
       "1   0.21  Premium     E     SI1   59.8   61.0    326  3.89  3.84  2.31\n",
       "2   0.23     Good     E     VS1   56.9   65.0    327  4.05  4.07  2.31\n",
       "3   0.29  Premium     I     VS2   62.4   58.0    334  4.20  4.23  2.63\n",
       "4   0.31     Good     J     SI2   63.3   58.0    335  4.34  4.35  2.75"
      ]
     },
     "execution_count": 5,
     "metadata": {},
     "output_type": "execute_result"
    }
   ],
   "source": [
    "df = pd.read_csv('diamonds.csv')\n",
    "\n",
    "df.head()"
   ]
  },
  {
   "cell_type": "code",
   "execution_count": 6,
   "id": "2afe6e2a",
   "metadata": {},
   "outputs": [
    {
     "data": {
      "text/html": [
       "<div><div id=605b542e-e7aa-4686-af2b-1eb150f10656 style=\"display:none; background-color:#9D6CFF; color:white; width:200px; height:30px; padding-left:5px; border-radius:4px; flex-direction:row; justify-content:space-around; align-items:center;\" onmouseover=\"this.style.backgroundColor='#BA9BF8'\" onmouseout=\"this.style.backgroundColor='#9D6CFF'\" onclick=\"window.commands?.execute('create-mitosheet-from-dataframe-output');\">See Full Dataframe in Mito</div> <script> if (window.commands?.hasCommand('create-mitosheet-from-dataframe-output')) document.getElementById('605b542e-e7aa-4686-af2b-1eb150f10656').style.display = 'flex' </script> <table border=\"1\" class=\"dataframe\">\n",
       "  <thead>\n",
       "    <tr style=\"text-align: right;\">\n",
       "      <th></th>\n",
       "      <th>carat</th>\n",
       "      <th>cut</th>\n",
       "      <th>color</th>\n",
       "      <th>clarity</th>\n",
       "      <th>depth</th>\n",
       "      <th>table</th>\n",
       "      <th>x</th>\n",
       "      <th>y</th>\n",
       "      <th>z</th>\n",
       "      <th>price</th>\n",
       "    </tr>\n",
       "  </thead>\n",
       "  <tbody>\n",
       "    <tr>\n",
       "      <th>0</th>\n",
       "      <td>0.23</td>\n",
       "      <td>Ideal</td>\n",
       "      <td>E</td>\n",
       "      <td>SI2</td>\n",
       "      <td>61.5</td>\n",
       "      <td>55.0</td>\n",
       "      <td>3.95</td>\n",
       "      <td>3.98</td>\n",
       "      <td>2.43</td>\n",
       "      <td>326</td>\n",
       "    </tr>\n",
       "    <tr>\n",
       "      <th>1</th>\n",
       "      <td>0.21</td>\n",
       "      <td>Premium</td>\n",
       "      <td>E</td>\n",
       "      <td>SI1</td>\n",
       "      <td>59.8</td>\n",
       "      <td>61.0</td>\n",
       "      <td>3.89</td>\n",
       "      <td>3.84</td>\n",
       "      <td>2.31</td>\n",
       "      <td>326</td>\n",
       "    </tr>\n",
       "    <tr>\n",
       "      <th>2</th>\n",
       "      <td>0.23</td>\n",
       "      <td>Good</td>\n",
       "      <td>E</td>\n",
       "      <td>VS1</td>\n",
       "      <td>56.9</td>\n",
       "      <td>65.0</td>\n",
       "      <td>4.05</td>\n",
       "      <td>4.07</td>\n",
       "      <td>2.31</td>\n",
       "      <td>327</td>\n",
       "    </tr>\n",
       "    <tr>\n",
       "      <th>3</th>\n",
       "      <td>0.29</td>\n",
       "      <td>Premium</td>\n",
       "      <td>I</td>\n",
       "      <td>VS2</td>\n",
       "      <td>62.4</td>\n",
       "      <td>58.0</td>\n",
       "      <td>4.20</td>\n",
       "      <td>4.23</td>\n",
       "      <td>2.63</td>\n",
       "      <td>334</td>\n",
       "    </tr>\n",
       "    <tr>\n",
       "      <th>4</th>\n",
       "      <td>0.31</td>\n",
       "      <td>Good</td>\n",
       "      <td>J</td>\n",
       "      <td>SI2</td>\n",
       "      <td>63.3</td>\n",
       "      <td>58.0</td>\n",
       "      <td>4.34</td>\n",
       "      <td>4.35</td>\n",
       "      <td>2.75</td>\n",
       "      <td>335</td>\n",
       "    </tr>\n",
       "  </tbody>\n",
       "</table></div>"
      ],
      "text/plain": [
       "   carat      cut color clarity  depth  table     x     y     z  price\n",
       "0   0.23    Ideal     E     SI2   61.5   55.0  3.95  3.98  2.43    326\n",
       "1   0.21  Premium     E     SI1   59.8   61.0  3.89  3.84  2.31    326\n",
       "2   0.23     Good     E     VS1   56.9   65.0  4.05  4.07  2.31    327\n",
       "3   0.29  Premium     I     VS2   62.4   58.0  4.20  4.23  2.63    334\n",
       "4   0.31     Good     J     SI2   63.3   58.0  4.34  4.35  2.75    335"
      ]
     },
     "execution_count": 6,
     "metadata": {},
     "output_type": "execute_result"
    }
   ],
   "source": [
    "df = df[['carat', 'cut', 'color', 'clarity', 'depth', 'table', 'x', 'y', 'z', 'price']]\n",
    "\n",
    "df.head()"
   ]
  },
  {
   "cell_type": "code",
   "execution_count": 7,
   "id": "506ebf26",
   "metadata": {},
   "outputs": [
    {
     "data": {
      "text/html": [
       "<div><div id=425ea15a-9204-476b-bc9a-88bed7ab39c2 style=\"display:none; background-color:#9D6CFF; color:white; width:200px; height:30px; padding-left:5px; border-radius:4px; flex-direction:row; justify-content:space-around; align-items:center;\" onmouseover=\"this.style.backgroundColor='#BA9BF8'\" onmouseout=\"this.style.backgroundColor='#9D6CFF'\" onclick=\"window.commands?.execute('create-mitosheet-from-dataframe-output');\">See Full Dataframe in Mito</div> <script> if (window.commands?.hasCommand('create-mitosheet-from-dataframe-output')) document.getElementById('425ea15a-9204-476b-bc9a-88bed7ab39c2').style.display = 'flex' </script> <table border=\"1\" class=\"dataframe\">\n",
       "  <thead>\n",
       "    <tr style=\"text-align: right;\">\n",
       "      <th></th>\n",
       "      <th>carat</th>\n",
       "      <th>cut</th>\n",
       "      <th>color</th>\n",
       "      <th>clarity</th>\n",
       "      <th>depth</th>\n",
       "      <th>table</th>\n",
       "      <th>x</th>\n",
       "      <th>y</th>\n",
       "      <th>z</th>\n",
       "      <th>price</th>\n",
       "    </tr>\n",
       "  </thead>\n",
       "  <tbody>\n",
       "    <tr>\n",
       "      <th>53935</th>\n",
       "      <td>0.72</td>\n",
       "      <td>Ideal</td>\n",
       "      <td>D</td>\n",
       "      <td>SI1</td>\n",
       "      <td>60.8</td>\n",
       "      <td>57.0</td>\n",
       "      <td>5.75</td>\n",
       "      <td>5.76</td>\n",
       "      <td>3.50</td>\n",
       "      <td>2757</td>\n",
       "    </tr>\n",
       "    <tr>\n",
       "      <th>53936</th>\n",
       "      <td>0.72</td>\n",
       "      <td>Good</td>\n",
       "      <td>D</td>\n",
       "      <td>SI1</td>\n",
       "      <td>63.1</td>\n",
       "      <td>55.0</td>\n",
       "      <td>5.69</td>\n",
       "      <td>5.75</td>\n",
       "      <td>3.61</td>\n",
       "      <td>2757</td>\n",
       "    </tr>\n",
       "    <tr>\n",
       "      <th>53937</th>\n",
       "      <td>0.70</td>\n",
       "      <td>Very Good</td>\n",
       "      <td>D</td>\n",
       "      <td>SI1</td>\n",
       "      <td>62.8</td>\n",
       "      <td>60.0</td>\n",
       "      <td>5.66</td>\n",
       "      <td>5.68</td>\n",
       "      <td>3.56</td>\n",
       "      <td>2757</td>\n",
       "    </tr>\n",
       "    <tr>\n",
       "      <th>53938</th>\n",
       "      <td>0.86</td>\n",
       "      <td>Premium</td>\n",
       "      <td>H</td>\n",
       "      <td>SI2</td>\n",
       "      <td>61.0</td>\n",
       "      <td>58.0</td>\n",
       "      <td>6.15</td>\n",
       "      <td>6.12</td>\n",
       "      <td>3.74</td>\n",
       "      <td>2757</td>\n",
       "    </tr>\n",
       "    <tr>\n",
       "      <th>53939</th>\n",
       "      <td>0.75</td>\n",
       "      <td>Ideal</td>\n",
       "      <td>D</td>\n",
       "      <td>SI2</td>\n",
       "      <td>62.2</td>\n",
       "      <td>55.0</td>\n",
       "      <td>5.83</td>\n",
       "      <td>5.87</td>\n",
       "      <td>3.64</td>\n",
       "      <td>2757</td>\n",
       "    </tr>\n",
       "  </tbody>\n",
       "</table></div>"
      ],
      "text/plain": [
       "       carat        cut color clarity  depth  table     x     y     z  price\n",
       "53935   0.72      Ideal     D     SI1   60.8   57.0  5.75  5.76  3.50   2757\n",
       "53936   0.72       Good     D     SI1   63.1   55.0  5.69  5.75  3.61   2757\n",
       "53937   0.70  Very Good     D     SI1   62.8   60.0  5.66  5.68  3.56   2757\n",
       "53938   0.86    Premium     H     SI2   61.0   58.0  6.15  6.12  3.74   2757\n",
       "53939   0.75      Ideal     D     SI2   62.2   55.0  5.83  5.87  3.64   2757"
      ]
     },
     "execution_count": 7,
     "metadata": {},
     "output_type": "execute_result"
    }
   ],
   "source": [
    "df.tail()"
   ]
  },
  {
   "cell_type": "code",
   "execution_count": 8,
   "id": "0e6109e4",
   "metadata": {},
   "outputs": [
    {
     "data": {
      "text/plain": [
       "(53940, 10)"
      ]
     },
     "execution_count": 8,
     "metadata": {},
     "output_type": "execute_result"
    }
   ],
   "source": [
    "df.shape"
   ]
  },
  {
   "cell_type": "code",
   "execution_count": 9,
   "id": "81c24855",
   "metadata": {},
   "outputs": [
    {
     "data": {
      "text/plain": [
       "(53794, 10)"
      ]
     },
     "execution_count": 9,
     "metadata": {},
     "output_type": "execute_result"
    }
   ],
   "source": [
    "df = df.drop_duplicates()\n",
    "\n",
    "df.shape"
   ]
  },
  {
   "cell_type": "code",
   "execution_count": 10,
   "id": "e203aef7",
   "metadata": {},
   "outputs": [
    {
     "data": {
      "text/plain": [
       "(53794, 11)"
      ]
     },
     "execution_count": 10,
     "metadata": {},
     "output_type": "execute_result"
    }
   ],
   "source": [
    "df.reset_index(inplace=True)\n",
    "\n",
    "df.shape"
   ]
  },
  {
   "cell_type": "code",
   "execution_count": 11,
   "id": "975e0b17",
   "metadata": {
    "scrolled": true
   },
   "outputs": [
    {
     "name": "stdout",
     "output_type": "stream",
     "text": [
      "<class 'pandas.core.frame.DataFrame'>\n",
      "RangeIndex: 53794 entries, 0 to 53793\n",
      "Data columns (total 11 columns):\n",
      " #   Column   Non-Null Count  Dtype  \n",
      "---  ------   --------------  -----  \n",
      " 0   index    53794 non-null  int64  \n",
      " 1   carat    53794 non-null  float64\n",
      " 2   cut      53794 non-null  object \n",
      " 3   color    53794 non-null  object \n",
      " 4   clarity  53794 non-null  object \n",
      " 5   depth    53794 non-null  float64\n",
      " 6   table    53794 non-null  float64\n",
      " 7   x        53794 non-null  float64\n",
      " 8   y        53794 non-null  float64\n",
      " 9   z        53794 non-null  float64\n",
      " 10  price    53794 non-null  int64  \n",
      "dtypes: float64(6), int64(2), object(3)\n",
      "memory usage: 4.5+ MB\n"
     ]
    }
   ],
   "source": [
    "df.info()"
   ]
  },
  {
   "cell_type": "code",
   "execution_count": 12,
   "id": "7b52bb4b",
   "metadata": {},
   "outputs": [
    {
     "data": {
      "text/plain": [
       "index      0\n",
       "carat      0\n",
       "cut        0\n",
       "color      0\n",
       "clarity    0\n",
       "depth      0\n",
       "table      0\n",
       "x          0\n",
       "y          0\n",
       "z          0\n",
       "price      0\n",
       "dtype: int64"
      ]
     },
     "execution_count": 12,
     "metadata": {},
     "output_type": "execute_result"
    }
   ],
   "source": [
    "df.isnull().sum()"
   ]
  },
  {
   "cell_type": "code",
   "execution_count": 13,
   "id": "2f2fe758",
   "metadata": {
    "scrolled": true
   },
   "outputs": [
    {
     "data": {
      "text/html": [
       "<div><div id=ef776e04-8d72-472d-844f-ad1fafc2bf80 style=\"display:none; background-color:#9D6CFF; color:white; width:200px; height:30px; padding-left:5px; border-radius:4px; flex-direction:row; justify-content:space-around; align-items:center;\" onmouseover=\"this.style.backgroundColor='#BA9BF8'\" onmouseout=\"this.style.backgroundColor='#9D6CFF'\" onclick=\"window.commands?.execute('create-mitosheet-from-dataframe-output');\">See Full Dataframe in Mito</div> <script> if (window.commands?.hasCommand('create-mitosheet-from-dataframe-output')) document.getElementById('ef776e04-8d72-472d-844f-ad1fafc2bf80').style.display = 'flex' </script> <table border=\"1\" class=\"dataframe\">\n",
       "  <thead>\n",
       "    <tr style=\"text-align: right;\">\n",
       "      <th></th>\n",
       "      <th>index</th>\n",
       "      <th>carat</th>\n",
       "      <th>depth</th>\n",
       "      <th>table</th>\n",
       "      <th>x</th>\n",
       "      <th>y</th>\n",
       "      <th>z</th>\n",
       "      <th>price</th>\n",
       "    </tr>\n",
       "  </thead>\n",
       "  <tbody>\n",
       "    <tr>\n",
       "      <th>count</th>\n",
       "      <td>53794.000000</td>\n",
       "      <td>53794.00000</td>\n",
       "      <td>53794.000000</td>\n",
       "      <td>53794.000000</td>\n",
       "      <td>53794.000000</td>\n",
       "      <td>53794.000000</td>\n",
       "      <td>53794.000000</td>\n",
       "      <td>53794.000000</td>\n",
       "    </tr>\n",
       "    <tr>\n",
       "      <th>mean</th>\n",
       "      <td>26970.074246</td>\n",
       "      <td>0.79778</td>\n",
       "      <td>61.748080</td>\n",
       "      <td>57.458109</td>\n",
       "      <td>5.731214</td>\n",
       "      <td>5.734653</td>\n",
       "      <td>3.538714</td>\n",
       "      <td>3933.065082</td>\n",
       "    </tr>\n",
       "    <tr>\n",
       "      <th>std</th>\n",
       "      <td>15577.122053</td>\n",
       "      <td>0.47339</td>\n",
       "      <td>1.429909</td>\n",
       "      <td>2.233679</td>\n",
       "      <td>1.120695</td>\n",
       "      <td>1.141209</td>\n",
       "      <td>0.705037</td>\n",
       "      <td>3988.114460</td>\n",
       "    </tr>\n",
       "    <tr>\n",
       "      <th>min</th>\n",
       "      <td>0.000000</td>\n",
       "      <td>0.20000</td>\n",
       "      <td>43.000000</td>\n",
       "      <td>43.000000</td>\n",
       "      <td>0.000000</td>\n",
       "      <td>0.000000</td>\n",
       "      <td>0.000000</td>\n",
       "      <td>326.000000</td>\n",
       "    </tr>\n",
       "    <tr>\n",
       "      <th>25%</th>\n",
       "      <td>13479.250000</td>\n",
       "      <td>0.40000</td>\n",
       "      <td>61.000000</td>\n",
       "      <td>56.000000</td>\n",
       "      <td>4.710000</td>\n",
       "      <td>4.720000</td>\n",
       "      <td>2.910000</td>\n",
       "      <td>951.000000</td>\n",
       "    </tr>\n",
       "    <tr>\n",
       "      <th>50%</th>\n",
       "      <td>26959.500000</td>\n",
       "      <td>0.70000</td>\n",
       "      <td>61.800000</td>\n",
       "      <td>57.000000</td>\n",
       "      <td>5.700000</td>\n",
       "      <td>5.710000</td>\n",
       "      <td>3.530000</td>\n",
       "      <td>2401.000000</td>\n",
       "    </tr>\n",
       "    <tr>\n",
       "      <th>75%</th>\n",
       "      <td>40472.750000</td>\n",
       "      <td>1.04000</td>\n",
       "      <td>62.500000</td>\n",
       "      <td>59.000000</td>\n",
       "      <td>6.540000</td>\n",
       "      <td>6.540000</td>\n",
       "      <td>4.030000</td>\n",
       "      <td>5326.750000</td>\n",
       "    </tr>\n",
       "    <tr>\n",
       "      <th>max</th>\n",
       "      <td>53939.000000</td>\n",
       "      <td>5.01000</td>\n",
       "      <td>79.000000</td>\n",
       "      <td>95.000000</td>\n",
       "      <td>10.740000</td>\n",
       "      <td>58.900000</td>\n",
       "      <td>31.800000</td>\n",
       "      <td>18823.000000</td>\n",
       "    </tr>\n",
       "  </tbody>\n",
       "</table></div>"
      ],
      "text/plain": [
       "              index        carat         depth         table             x  \\\n",
       "count  53794.000000  53794.00000  53794.000000  53794.000000  53794.000000   \n",
       "mean   26970.074246      0.79778     61.748080     57.458109      5.731214   \n",
       "std    15577.122053      0.47339      1.429909      2.233679      1.120695   \n",
       "min        0.000000      0.20000     43.000000     43.000000      0.000000   \n",
       "25%    13479.250000      0.40000     61.000000     56.000000      4.710000   \n",
       "50%    26959.500000      0.70000     61.800000     57.000000      5.700000   \n",
       "75%    40472.750000      1.04000     62.500000     59.000000      6.540000   \n",
       "max    53939.000000      5.01000     79.000000     95.000000     10.740000   \n",
       "\n",
       "                  y             z         price  \n",
       "count  53794.000000  53794.000000  53794.000000  \n",
       "mean       5.734653      3.538714   3933.065082  \n",
       "std        1.141209      0.705037   3988.114460  \n",
       "min        0.000000      0.000000    326.000000  \n",
       "25%        4.720000      2.910000    951.000000  \n",
       "50%        5.710000      3.530000   2401.000000  \n",
       "75%        6.540000      4.030000   5326.750000  \n",
       "max       58.900000     31.800000  18823.000000  "
      ]
     },
     "execution_count": 13,
     "metadata": {},
     "output_type": "execute_result"
    }
   ],
   "source": [
    "df.describe()"
   ]
  },
  {
   "cell_type": "markdown",
   "id": "f6ec9ecb",
   "metadata": {},
   "source": [
    "## EDA - Exploratery Data Analysis"
   ]
  },
  {
   "cell_type": "markdown",
   "id": "161bf07d",
   "metadata": {},
   "source": [
    "## 1. Univariate Analysis"
   ]
  },
  {
   "cell_type": "code",
   "execution_count": 14,
   "id": "b56bab67",
   "metadata": {},
   "outputs": [
    {
     "data": {
      "image/png": "[encoded data removed]",
      "text/plain": [
       "<Figure size 432x288 with 1 Axes>"
      ]
     },
     "metadata": {
      "needs_background": "light"
     },
     "output_type": "display_data"
    }
   ],
   "source": [
    "plt.hist(df['cut'], facecolor = 'pink')\n",
    "\n",
    "plt.show()"
   ]
  },
  {
   "cell_type": "code",
   "execution_count": 15,
   "id": "20be05ad",
   "metadata": {},
   "outputs": [
    {
     "data": {
      "text/plain": [
       "<AxesSubplot:xlabel='cut', ylabel='count'>"
      ]
     },
     "execution_count": 15,
     "metadata": {},
     "output_type": "execute_result"
    },
    {
     "data": {
      "image/png": "[encoded data removed]",
      "text/plain": [
       "<Figure size 432x288 with 1 Axes>"
      ]
     },
     "metadata": {
      "needs_background": "light"
     },
     "output_type": "display_data"
    }
   ],
   "source": [
    "sns.countplot(x=df['cut'])"
   ]
  },
  {
   "cell_type": "code",
   "execution_count": 16,
   "id": "a7f2d778",
   "metadata": {},
   "outputs": [
    {
     "data": {
      "image/png": "[encoded data removed]",
      "text/plain": [
       "<Figure size 432x288 with 1 Axes>"
      ]
     },
     "metadata": {
      "needs_background": "light"
     },
     "output_type": "display_data"
    }
   ],
   "source": [
    "plt.hist(df['color'], facecolor = 'coral')\n",
    "\n",
    "plt.show()"
   ]
  },
  {
   "cell_type": "code",
   "execution_count": 17,
   "id": "d2cf1ec8",
   "metadata": {},
   "outputs": [
    {
     "data": {
      "text/plain": [
       "<AxesSubplot:xlabel='color', ylabel='count'>"
      ]
     },
     "execution_count": 17,
     "metadata": {},
     "output_type": "execute_result"
    },
    {
     "data": {
      "image/png": "[encoded data removed]",
      "text/plain": [
       "<Figure size 432x288 with 1 Axes>"
      ]
     },
     "metadata": {
      "needs_background": "light"
     },
     "output_type": "display_data"
    }
   ],
   "source": [
    "sns.countplot(x=df['color'])"
   ]
  },
  {
   "cell_type": "code",
   "execution_count": 18,
   "id": "e35717bb",
   "metadata": {},
   "outputs": [
    {
     "data": {
      "image/png": "[encoded data removed]",
      "text/plain": [
       "<Figure size 432x288 with 1 Axes>"
      ]
     },
     "metadata": {
      "needs_background": "light"
     },
     "output_type": "display_data"
    }
   ],
   "source": [
    "plt.hist(df['clarity'], facecolor = 'purple')\n",
    "\n",
    "plt.show()"
   ]
  },
  {
   "cell_type": "code",
   "execution_count": 19,
   "id": "f2af5ed8",
   "metadata": {},
   "outputs": [
    {
     "data": {
      "text/plain": [
       "<AxesSubplot:xlabel='clarity', ylabel='count'>"
      ]
     },
     "execution_count": 19,
     "metadata": {},
     "output_type": "execute_result"
    },
    {
     "data": {
      "image/png": "[encoded data removed]",
      "text/plain": [
       "<Figure size 432x288 with 1 Axes>"
      ]
     },
     "metadata": {
      "needs_background": "light"
     },
     "output_type": "display_data"
    }
   ],
   "source": [
    "sns.countplot(x=df['clarity'])"
   ]
  },
  {
   "cell_type": "code",
   "execution_count": 20,
   "id": "b41c838c",
   "metadata": {},
   "outputs": [
    {
     "data": {
      "image/png": "[encoded data removed]",
      "text/plain": [
       "<Figure size 432x288 with 1 Axes>"
      ]
     },
     "metadata": {
      "needs_background": "light"
     },
     "output_type": "display_data"
    }
   ],
   "source": [
    "df[\"price\"].plot(kind='kde',color='black') \n",
    "\n",
    "plt.grid()"
   ]
  },
  {
   "cell_type": "code",
   "execution_count": 21,
   "id": "ff8344e0",
   "metadata": {},
   "outputs": [
    {
     "data": {
      "image/png": "[encoded data removed]",
      "text/plain": [
       "<Figure size 432x288 with 1 Axes>"
      ]
     },
     "metadata": {
      "needs_background": "light"
     },
     "output_type": "display_data"
    }
   ],
   "source": [
    "plt.boxplot(df['carat'])\n",
    "\n",
    "plt.title('weight of the diamond')\n",
    "plt.xlabel('weight of the diamond')\n",
    "\n",
    "plt.show()"
   ]
  },
  {
   "cell_type": "code",
   "execution_count": 22,
   "id": "321f597f",
   "metadata": {},
   "outputs": [
    {
     "data": {
      "image/png": "[encoded data removed]",
      "text/plain": [
       "<Figure size 432x288 with 1 Axes>"
      ]
     },
     "metadata": {
      "needs_background": "light"
     },
     "output_type": "display_data"
    }
   ],
   "source": [
    "plt.boxplot(df['depth'])\n",
    "\n",
    "plt.title('depth of the diamond')\n",
    "plt.xlabel('depth of the diamond')\n",
    "\n",
    "plt.show()"
   ]
  },
  {
   "cell_type": "code",
   "execution_count": 23,
   "id": "0265fa2c",
   "metadata": {},
   "outputs": [
    {
     "data": {
      "image/png": "[encoded data removed]",
      "text/plain": [
       "<Figure size 432x288 with 1 Axes>"
      ]
     },
     "metadata": {
      "needs_background": "light"
     },
     "output_type": "display_data"
    }
   ],
   "source": [
    "plt.boxplot(df['x'])\n",
    "\n",
    "plt.title('lentgh of diamond')\n",
    "plt.xlabel('lentgh in mm')\n",
    "\n",
    "plt.show()"
   ]
  },
  {
   "cell_type": "code",
   "execution_count": 24,
   "id": "a4d831e4",
   "metadata": {},
   "outputs": [
    {
     "data": {
      "image/png": "[encoded data removed]",
      "text/plain": [
       "<Figure size 432x288 with 1 Axes>"
      ]
     },
     "metadata": {
      "needs_background": "light"
     },
     "output_type": "display_data"
    }
   ],
   "source": [
    "plt.boxplot(df['y'])\n",
    "\n",
    "plt.title('width of diamond')\n",
    "plt.xlabel('widht in mm')\n",
    "\n",
    "plt.show()"
   ]
  },
  {
   "cell_type": "code",
   "execution_count": 25,
   "id": "259eb623",
   "metadata": {
    "scrolled": true
   },
   "outputs": [
    {
     "data": {
      "image/png": "[encoded data removed]",
      "text/plain": [
       "<Figure size 432x288 with 1 Axes>"
      ]
     },
     "metadata": {
      "needs_background": "light"
     },
     "output_type": "display_data"
    }
   ],
   "source": [
    "plt.boxplot(df['z'])\n",
    "\n",
    "plt.title('depth of diamond')\n",
    "plt.xlabel('depth in mm')\n",
    "\n",
    "plt.show()"
   ]
  },
  {
   "cell_type": "markdown",
   "id": "fae1f149",
   "metadata": {},
   "source": [
    "## Univariate"
   ]
  },
  {
   "cell_type": "code",
   "execution_count": 26,
   "id": "325e41e8",
   "metadata": {},
   "outputs": [
    {
     "data": {
      "image/png": "[encoded data removed]",
      "text/plain": [
       "<Figure size 432x288 with 1 Axes>"
      ]
     },
     "metadata": {
      "needs_background": "light"
     },
     "output_type": "display_data"
    }
   ],
   "source": [
    "plt.scatter(df['carat'], df['price'])\n",
    "\n",
    "plt.title('Scatter-plot-btw-Price & weight of the diamond')\n",
    "\n",
    "plt.xlabel('weight of the diamond')\n",
    "plt.ylabel('price')\n",
    "\n",
    "plt.grid()\n",
    "\n",
    "plt.show()"
   ]
  },
  {
   "cell_type": "code",
   "execution_count": 27,
   "id": "bb6b8d80",
   "metadata": {},
   "outputs": [
    {
     "data": {
      "image/png": "[encoded data removed]",
      "text/plain": [
       "<Figure size 432x288 with 1 Axes>"
      ]
     },
     "metadata": {
      "needs_background": "light"
     },
     "output_type": "display_data"
    }
   ],
   "source": [
    "plt.scatter(df['x'], df['price'])\n",
    "\n",
    "plt.title('Scatter-plot-btw-Price & lentgh of the diamond')\n",
    "\n",
    "plt.xlabel('lentgh of the diamond')\n",
    "plt.ylabel('price')\n",
    "\n",
    "plt.grid()\n",
    "\n",
    "plt.show()"
   ]
  },
  {
   "cell_type": "code",
   "execution_count": 28,
   "id": "4ffdae82",
   "metadata": {},
   "outputs": [
    {
     "data": {
      "text/plain": [
       "<AxesSubplot:>"
      ]
     },
     "execution_count": 28,
     "metadata": {},
     "output_type": "execute_result"
    },
    {
     "data": {
      "image/png": "[encoded data removed]",
      "text/plain": [
       "<Figure size 432x288 with 2 Axes>"
      ]
     },
     "metadata": {
      "needs_background": "light"
     },
     "output_type": "display_data"
    }
   ],
   "source": [
    "sns.heatmap(df.corr(), cmap=\"YlGnBu\", annot=True)"
   ]
  },
  {
   "cell_type": "markdown",
   "id": "cac19bb5",
   "metadata": {},
   "source": [
    "# Outliers Detection and Replace with Median"
   ]
  },
  {
   "cell_type": "code",
   "execution_count": 29,
   "id": "ec789020",
   "metadata": {},
   "outputs": [
    {
     "name": "stdout",
     "output_type": "stream",
     "text": [
      "<class 'pandas.core.frame.DataFrame'>\n",
      "RangeIndex: 53794 entries, 0 to 53793\n",
      "Data columns (total 11 columns):\n",
      " #   Column   Non-Null Count  Dtype  \n",
      "---  ------   --------------  -----  \n",
      " 0   index    53794 non-null  int64  \n",
      " 1   carat    53794 non-null  float64\n",
      " 2   cut      53794 non-null  object \n",
      " 3   color    53794 non-null  object \n",
      " 4   clarity  53794 non-null  object \n",
      " 5   depth    53794 non-null  float64\n",
      " 6   table    53794 non-null  float64\n",
      " 7   x        53794 non-null  float64\n",
      " 8   y        53794 non-null  float64\n",
      " 9   z        53794 non-null  float64\n",
      " 10  price    53794 non-null  int64  \n",
      "dtypes: float64(6), int64(2), object(3)\n",
      "memory usage: 4.5+ MB\n"
     ]
    }
   ],
   "source": [
    "df.info()"
   ]
  },
  {
   "cell_type": "markdown",
   "id": "c9d00f8b",
   "metadata": {},
   "source": [
    "### CARAT"
   ]
  },
  {
   "cell_type": "code",
   "execution_count": 30,
   "id": "2ee4a2da",
   "metadata": {},
   "outputs": [
    {
     "data": {
      "image/png": "[encoded data removed]",
      "text/plain": [
       "<Figure size 432x288 with 1 Axes>"
      ]
     },
     "metadata": {
      "needs_background": "light"
     },
     "output_type": "display_data"
    },
    {
     "data": {
      "image/png": "[encoded data removed]",
      "text/plain": [
       "<Figure size 432x288 with 1 Axes>"
      ]
     },
     "metadata": {
      "needs_background": "light"
     },
     "output_type": "display_data"
    }
   ],
   "source": [
    "plt.boxplot(df['carat'])\n",
    "plt.title('weight of the diamond')\n",
    "plt.xlabel('weight of the diamond')\n",
    "plt.show()\n",
    "\n",
    "def outliers(df, col):\n",
    "    q1 = df[col].quantile(0.25)\n",
    "    q3 = df[col].quantile(0.75)\n",
    "    iqr = q3 - q1\n",
    "    lb = q1 - (1.5*iqr)\n",
    "    ub = q3 + (1.5*iqr)\n",
    "    \n",
    "    for x in df[col]:\n",
    "        if x < lb or x > ub:\n",
    "            df[col] = df[col].replace(x, np.median(df[col]))\n",
    "        \n",
    "\n",
    "outliers(df, \"carat\")        \n",
    "plt.boxplot(df[\"carat\"])\n",
    "plt.show()"
   ]
  },
  {
   "cell_type": "code",
   "execution_count": 31,
   "id": "cf46e0f0",
   "metadata": {},
   "outputs": [
    {
     "data": {
      "image/png": "[encoded data removed]",
      "text/plain": [
       "<Figure size 432x288 with 1 Axes>"
      ]
     },
     "metadata": {
      "needs_background": "light"
     },
     "output_type": "display_data"
    },
    {
     "data": {
      "image/png": "[encoded data removed]",
      "text/plain": [
       "<Figure size 432x288 with 1 Axes>"
      ]
     },
     "metadata": {
      "needs_background": "light"
     },
     "output_type": "display_data"
    }
   ],
   "source": [
    "plt.boxplot(df['carat'])\n",
    "plt.title('weight of the diamond')\n",
    "plt.xlabel('weight of the diamond')\n",
    "plt.show()\n",
    "\n",
    "carat = outliers(df, \"carat\") \n",
    "plt.boxplot(df[\"carat\"])\n",
    "plt.show()"
   ]
  },
  {
   "cell_type": "markdown",
   "id": "772edf96",
   "metadata": {},
   "source": [
    "## Depth"
   ]
  },
  {
   "cell_type": "code",
   "execution_count": 32,
   "id": "04a71433",
   "metadata": {},
   "outputs": [
    {
     "data": {
      "image/png": "[encoded data removed]",
      "text/plain": [
       "<Figure size 432x288 with 1 Axes>"
      ]
     },
     "metadata": {
      "needs_background": "light"
     },
     "output_type": "display_data"
    },
    {
     "data": {
      "image/png": "[encoded data removed]",
      "text/plain": [
       "<Figure size 432x288 with 1 Axes>"
      ]
     },
     "metadata": {
      "needs_background": "light"
     },
     "output_type": "display_data"
    }
   ],
   "source": [
    "plt.boxplot(df['depth'])\n",
    "plt.title('depth of diamond')\n",
    "plt.xlabel('depth in mm')\n",
    "plt.show()\n",
    "\n",
    "depth = outliers(df, \"depth\")        \n",
    "plt.boxplot(df[\"depth\"])\n",
    "plt.show()"
   ]
  },
  {
   "cell_type": "markdown",
   "id": "f68e5644",
   "metadata": {},
   "source": [
    "## Table"
   ]
  },
  {
   "cell_type": "code",
   "execution_count": 33,
   "id": "04fb42b3",
   "metadata": {},
   "outputs": [
    {
     "data": {
      "image/png": "[encoded data removed]",
      "text/plain": [
       "<Figure size 432x288 with 1 Axes>"
      ]
     },
     "metadata": {
      "needs_background": "light"
     },
     "output_type": "display_data"
    },
    {
     "data": {
      "image/png": "[encoded data removed]",
      "text/plain": [
       "<Figure size 432x288 with 1 Axes>"
      ]
     },
     "metadata": {
      "needs_background": "light"
     },
     "output_type": "display_data"
    }
   ],
   "source": [
    "plt.boxplot(df['table'])\n",
    "plt.title('table of diamond')\n",
    "plt.xlabel('table')\n",
    "plt.show()\n",
    "\n",
    "table = outliers(df, \"table\")        \n",
    "plt.boxplot(df[\"table\"])\n",
    "plt.show()"
   ]
  },
  {
   "cell_type": "markdown",
   "id": "02fc6ea1",
   "metadata": {},
   "source": [
    "## X"
   ]
  },
  {
   "cell_type": "code",
   "execution_count": 34,
   "id": "46eb1feb",
   "metadata": {},
   "outputs": [
    {
     "data": {
      "image/png": "[encoded data removed]",
      "text/plain": [
       "<Figure size 432x288 with 1 Axes>"
      ]
     },
     "metadata": {
      "needs_background": "light"
     },
     "output_type": "display_data"
    },
    {
     "data": {
      "image/png": "[encoded data removed]",
      "text/plain": [
       "<Figure size 432x288 with 1 Axes>"
      ]
     },
     "metadata": {
      "needs_background": "light"
     },
     "output_type": "display_data"
    }
   ],
   "source": [
    "plt.boxplot(df['x'])\n",
    "plt.title('length of diamond')\n",
    "plt.xlabel('length in mm')\n",
    "plt.show()\n",
    "\n",
    "x = outliers(df, \"x\")        \n",
    "plt.boxplot(df[\"x\"])\n",
    "plt.show()"
   ]
  },
  {
   "cell_type": "markdown",
   "id": "2adf85df",
   "metadata": {},
   "source": [
    "### Y"
   ]
  },
  {
   "cell_type": "code",
   "execution_count": 35,
   "id": "599a0071",
   "metadata": {},
   "outputs": [
    {
     "data": {
      "image/png": "[encoded data removed]",
      "text/plain": [
       "<Figure size 432x288 with 1 Axes>"
      ]
     },
     "metadata": {
      "needs_background": "light"
     },
     "output_type": "display_data"
    },
    {
     "data": {
      "image/png": "[encoded data removed]",
      "text/plain": [
       "<Figure size 432x288 with 1 Axes>"
      ]
     },
     "metadata": {
      "needs_background": "light"
     },
     "output_type": "display_data"
    }
   ],
   "source": [
    "plt.boxplot(df['y'])\n",
    "plt.title('width of diamond')\n",
    "plt.xlabel('widht in mm')\n",
    "plt.show()\n",
    "\n",
    "Y = outliers(df, \"y\")        \n",
    "plt.boxplot(df[\"y\"])\n",
    "plt.show()"
   ]
  },
  {
   "cell_type": "markdown",
   "id": "96e954be",
   "metadata": {},
   "source": [
    "### Z"
   ]
  },
  {
   "cell_type": "code",
   "execution_count": 36,
   "id": "b3f79bf0",
   "metadata": {
    "scrolled": true
   },
   "outputs": [
    {
     "data": {
      "image/png": "[encoded data removed]",
      "text/plain": [
       "<Figure size 432x288 with 1 Axes>"
      ]
     },
     "metadata": {
      "needs_background": "light"
     },
     "output_type": "display_data"
    },
    {
     "data": {
      "image/png": "[encoded data removed]",
      "text/plain": [
       "<Figure size 432x288 with 1 Axes>"
      ]
     },
     "metadata": {
      "needs_background": "light"
     },
     "output_type": "display_data"
    }
   ],
   "source": [
    "plt.boxplot(df['z'])\n",
    "plt.title('depth of diamond')\n",
    "plt.xlabel('depth in mm')\n",
    "plt.show()\n",
    "\n",
    "z = outliers(df, \"z\")        \n",
    "plt.boxplot(df[\"z\"])\n",
    "plt.show()"
   ]
  },
  {
   "cell_type": "code",
   "execution_count": 37,
   "id": "630f9fdb",
   "metadata": {},
   "outputs": [
    {
     "data": {
      "text/html": [
       "<div><div id=735e4b4d-e6c3-432f-9c53-fbdfb1af681c style=\"display:none; background-color:#9D6CFF; color:white; width:200px; height:30px; padding-left:5px; border-radius:4px; flex-direction:row; justify-content:space-around; align-items:center;\" onmouseover=\"this.style.backgroundColor='#BA9BF8'\" onmouseout=\"this.style.backgroundColor='#9D6CFF'\" onclick=\"window.commands?.execute('create-mitosheet-from-dataframe-output');\">See Full Dataframe in Mito</div> <script> if (window.commands?.hasCommand('create-mitosheet-from-dataframe-output')) document.getElementById('735e4b4d-e6c3-432f-9c53-fbdfb1af681c').style.display = 'flex' </script> <table border=\"1\" class=\"dataframe\">\n",
       "  <thead>\n",
       "    <tr style=\"text-align: right;\">\n",
       "      <th></th>\n",
       "      <th>index</th>\n",
       "      <th>carat</th>\n",
       "      <th>depth</th>\n",
       "      <th>table</th>\n",
       "      <th>x</th>\n",
       "      <th>y</th>\n",
       "      <th>z</th>\n",
       "      <th>price</th>\n",
       "    </tr>\n",
       "  </thead>\n",
       "  <tbody>\n",
       "    <tr>\n",
       "      <th>count</th>\n",
       "      <td>53794.000000</td>\n",
       "      <td>53794.000000</td>\n",
       "      <td>53794.000000</td>\n",
       "      <td>53794.000000</td>\n",
       "      <td>53794.000000</td>\n",
       "      <td>53794.000000</td>\n",
       "      <td>53794.000000</td>\n",
       "      <td>53794.000000</td>\n",
       "    </tr>\n",
       "    <tr>\n",
       "      <th>mean</th>\n",
       "      <td>26970.074246</td>\n",
       "      <td>0.740196</td>\n",
       "      <td>61.776726</td>\n",
       "      <td>57.370199</td>\n",
       "      <td>5.730193</td>\n",
       "      <td>5.732357</td>\n",
       "      <td>3.538174</td>\n",
       "      <td>3933.065082</td>\n",
       "    </tr>\n",
       "    <tr>\n",
       "      <th>std</th>\n",
       "      <td>15577.122053</td>\n",
       "      <td>0.384153</td>\n",
       "      <td>1.090387</td>\n",
       "      <td>2.062829</td>\n",
       "      <td>1.115690</td>\n",
       "      <td>1.108064</td>\n",
       "      <td>0.688620</td>\n",
       "      <td>3988.114460</td>\n",
       "    </tr>\n",
       "    <tr>\n",
       "      <th>min</th>\n",
       "      <td>0.000000</td>\n",
       "      <td>0.200000</td>\n",
       "      <td>58.800000</td>\n",
       "      <td>51.600000</td>\n",
       "      <td>3.730000</td>\n",
       "      <td>3.680000</td>\n",
       "      <td>1.410000</td>\n",
       "      <td>326.000000</td>\n",
       "    </tr>\n",
       "    <tr>\n",
       "      <th>25%</th>\n",
       "      <td>13479.250000</td>\n",
       "      <td>0.400000</td>\n",
       "      <td>61.200000</td>\n",
       "      <td>56.000000</td>\n",
       "      <td>4.710000</td>\n",
       "      <td>4.720000</td>\n",
       "      <td>2.910000</td>\n",
       "      <td>951.000000</td>\n",
       "    </tr>\n",
       "    <tr>\n",
       "      <th>50%</th>\n",
       "      <td>26959.500000</td>\n",
       "      <td>0.700000</td>\n",
       "      <td>61.800000</td>\n",
       "      <td>57.000000</td>\n",
       "      <td>5.700000</td>\n",
       "      <td>5.710000</td>\n",
       "      <td>3.530000</td>\n",
       "      <td>2401.000000</td>\n",
       "    </tr>\n",
       "    <tr>\n",
       "      <th>75%</th>\n",
       "      <td>40472.750000</td>\n",
       "      <td>1.010000</td>\n",
       "      <td>62.500000</td>\n",
       "      <td>59.000000</td>\n",
       "      <td>6.540000</td>\n",
       "      <td>6.540000</td>\n",
       "      <td>4.030000</td>\n",
       "      <td>5326.750000</td>\n",
       "    </tr>\n",
       "    <tr>\n",
       "      <th>max</th>\n",
       "      <td>53939.000000</td>\n",
       "      <td>1.920000</td>\n",
       "      <td>64.700000</td>\n",
       "      <td>63.500000</td>\n",
       "      <td>9.260000</td>\n",
       "      <td>9.260000</td>\n",
       "      <td>5.690000</td>\n",
       "      <td>18823.000000</td>\n",
       "    </tr>\n",
       "  </tbody>\n",
       "</table></div>"
      ],
      "text/plain": [
       "              index         carat         depth         table             x  \\\n",
       "count  53794.000000  53794.000000  53794.000000  53794.000000  53794.000000   \n",
       "mean   26970.074246      0.740196     61.776726     57.370199      5.730193   \n",
       "std    15577.122053      0.384153      1.090387      2.062829      1.115690   \n",
       "min        0.000000      0.200000     58.800000     51.600000      3.730000   \n",
       "25%    13479.250000      0.400000     61.200000     56.000000      4.710000   \n",
       "50%    26959.500000      0.700000     61.800000     57.000000      5.700000   \n",
       "75%    40472.750000      1.010000     62.500000     59.000000      6.540000   \n",
       "max    53939.000000      1.920000     64.700000     63.500000      9.260000   \n",
       "\n",
       "                  y             z         price  \n",
       "count  53794.000000  53794.000000  53794.000000  \n",
       "mean       5.732357      3.538174   3933.065082  \n",
       "std        1.108064      0.688620   3988.114460  \n",
       "min        3.680000      1.410000    326.000000  \n",
       "25%        4.720000      2.910000    951.000000  \n",
       "50%        5.710000      3.530000   2401.000000  \n",
       "75%        6.540000      4.030000   5326.750000  \n",
       "max        9.260000      5.690000  18823.000000  "
      ]
     },
     "execution_count": 37,
     "metadata": {},
     "output_type": "execute_result"
    }
   ],
   "source": [
    "df.describe()"
   ]
  },
  {
   "cell_type": "markdown",
   "id": "19bab4a4",
   "metadata": {},
   "source": [
    "## KNN (Regression)\n",
    "\n",
    "\n",
    "\n",
    "## Data Preprocessing\n",
    "\n",
    "\n",
    "\n",
    "## 1. Identifying the inputs (X) and output (y)"
   ]
  },
  {
   "cell_type": "code",
   "execution_count": 38,
   "id": "1d2ed88b",
   "metadata": {},
   "outputs": [],
   "source": [
    "y = df['price']\n",
    "\n",
    "X = df.drop('price', axis = 1)"
   ]
  },
  {
   "cell_type": "markdown",
   "id": "d5cc8fe1",
   "metadata": {},
   "source": [
    "## 2.Train and Test\n",
    "\n",
    "- train_test_split divides the dataset into the training and testing set"
   ]
  },
  {
   "cell_type": "code",
   "execution_count": 39,
   "id": "03f3a6d3",
   "metadata": {},
   "outputs": [],
   "source": [
    "from sklearn.model_selection import train_test_split\n",
    "\n",
    "X_train, X_test, y_train, y_test = train_test_split(X, y, train_size = 0.75, random_state = 0)"
   ]
  },
  {
   "cell_type": "code",
   "execution_count": 40,
   "id": "7eb77006",
   "metadata": {},
   "outputs": [
    {
     "name": "stdout",
     "output_type": "stream",
     "text": [
      "(40345, 10) (40345,)\n",
      "(13449, 10) (13449,)\n"
     ]
    }
   ],
   "source": [
    "print(X_train.shape, y_train.shape)\n",
    "print(X_test.shape, y_test.shape)"
   ]
  },
  {
   "cell_type": "markdown",
   "id": "64ce63ee",
   "metadata": {},
   "source": [
    "## 3. Separating categorical and numerical column"
   ]
  },
  {
   "cell_type": "code",
   "execution_count": 41,
   "id": "a9f115cd",
   "metadata": {},
   "outputs": [
    {
     "data": {
      "text/plain": [
       "index        int64\n",
       "carat      float64\n",
       "cut         object\n",
       "color       object\n",
       "clarity     object\n",
       "depth      float64\n",
       "table      float64\n",
       "x          float64\n",
       "y          float64\n",
       "z          float64\n",
       "dtype: object"
      ]
     },
     "execution_count": 41,
     "metadata": {},
     "output_type": "execute_result"
    }
   ],
   "source": [
    "X_train.dtypes"
   ]
  },
  {
   "cell_type": "code",
   "execution_count": 42,
   "id": "3463342b",
   "metadata": {},
   "outputs": [],
   "source": [
    " X_train_cat_le= df.select_dtypes(include = 'object')\n",
    "\n",
    "X_train_num =df.select_dtypes(exclude = 'object')"
   ]
  },
  {
   "cell_type": "code",
   "execution_count": 43,
   "id": "c8675eb4",
   "metadata": {},
   "outputs": [
    {
     "data": {
      "text/html": [
       "<div><div id=e788e81c-87f8-45b1-a42b-27a3955e3978 style=\"display:none; background-color:#9D6CFF; color:white; width:200px; height:30px; padding-left:5px; border-radius:4px; flex-direction:row; justify-content:space-around; align-items:center;\" onmouseover=\"this.style.backgroundColor='#BA9BF8'\" onmouseout=\"this.style.backgroundColor='#9D6CFF'\" onclick=\"window.commands?.execute('create-mitosheet-from-dataframe-output');\">See Full Dataframe in Mito</div> <script> if (window.commands?.hasCommand('create-mitosheet-from-dataframe-output')) document.getElementById('e788e81c-87f8-45b1-a42b-27a3955e3978').style.display = 'flex' </script> <table border=\"1\" class=\"dataframe\">\n",
       "  <thead>\n",
       "    <tr style=\"text-align: right;\">\n",
       "      <th></th>\n",
       "      <th>cut</th>\n",
       "      <th>color</th>\n",
       "      <th>clarity</th>\n",
       "    </tr>\n",
       "  </thead>\n",
       "  <tbody>\n",
       "    <tr>\n",
       "      <th>0</th>\n",
       "      <td>Ideal</td>\n",
       "      <td>E</td>\n",
       "      <td>SI2</td>\n",
       "    </tr>\n",
       "    <tr>\n",
       "      <th>1</th>\n",
       "      <td>Premium</td>\n",
       "      <td>E</td>\n",
       "      <td>SI1</td>\n",
       "    </tr>\n",
       "    <tr>\n",
       "      <th>2</th>\n",
       "      <td>Good</td>\n",
       "      <td>E</td>\n",
       "      <td>VS1</td>\n",
       "    </tr>\n",
       "    <tr>\n",
       "      <th>3</th>\n",
       "      <td>Premium</td>\n",
       "      <td>I</td>\n",
       "      <td>VS2</td>\n",
       "    </tr>\n",
       "    <tr>\n",
       "      <th>4</th>\n",
       "      <td>Good</td>\n",
       "      <td>J</td>\n",
       "      <td>SI2</td>\n",
       "    </tr>\n",
       "  </tbody>\n",
       "</table></div>"
      ],
      "text/plain": [
       "       cut color clarity\n",
       "0    Ideal     E     SI2\n",
       "1  Premium     E     SI1\n",
       "2     Good     E     VS1\n",
       "3  Premium     I     VS2\n",
       "4     Good     J     SI2"
      ]
     },
     "execution_count": 43,
     "metadata": {},
     "output_type": "execute_result"
    }
   ],
   "source": [
    " X_train_cat_le.head()"
   ]
  },
  {
   "cell_type": "code",
   "execution_count": 44,
   "id": "9013d551",
   "metadata": {},
   "outputs": [
    {
     "data": {
      "text/html": [
       "<div><div id=d965c1bc-84a1-4e21-a0c3-c4db12de37ab style=\"display:none; background-color:#9D6CFF; color:white; width:200px; height:30px; padding-left:5px; border-radius:4px; flex-direction:row; justify-content:space-around; align-items:center;\" onmouseover=\"this.style.backgroundColor='#BA9BF8'\" onmouseout=\"this.style.backgroundColor='#9D6CFF'\" onclick=\"window.commands?.execute('create-mitosheet-from-dataframe-output');\">See Full Dataframe in Mito</div> <script> if (window.commands?.hasCommand('create-mitosheet-from-dataframe-output')) document.getElementById('d965c1bc-84a1-4e21-a0c3-c4db12de37ab').style.display = 'flex' </script> <table border=\"1\" class=\"dataframe\">\n",
       "  <thead>\n",
       "    <tr style=\"text-align: right;\">\n",
       "      <th></th>\n",
       "      <th>index</th>\n",
       "      <th>carat</th>\n",
       "      <th>depth</th>\n",
       "      <th>table</th>\n",
       "      <th>x</th>\n",
       "      <th>y</th>\n",
       "      <th>z</th>\n",
       "      <th>price</th>\n",
       "    </tr>\n",
       "  </thead>\n",
       "  <tbody>\n",
       "    <tr>\n",
       "      <th>0</th>\n",
       "      <td>0</td>\n",
       "      <td>0.23</td>\n",
       "      <td>61.5</td>\n",
       "      <td>55.0</td>\n",
       "      <td>3.95</td>\n",
       "      <td>3.98</td>\n",
       "      <td>2.43</td>\n",
       "      <td>326</td>\n",
       "    </tr>\n",
       "    <tr>\n",
       "      <th>1</th>\n",
       "      <td>1</td>\n",
       "      <td>0.21</td>\n",
       "      <td>59.8</td>\n",
       "      <td>61.0</td>\n",
       "      <td>3.89</td>\n",
       "      <td>3.84</td>\n",
       "      <td>2.31</td>\n",
       "      <td>326</td>\n",
       "    </tr>\n",
       "    <tr>\n",
       "      <th>2</th>\n",
       "      <td>2</td>\n",
       "      <td>0.23</td>\n",
       "      <td>61.8</td>\n",
       "      <td>57.0</td>\n",
       "      <td>4.05</td>\n",
       "      <td>4.07</td>\n",
       "      <td>2.31</td>\n",
       "      <td>327</td>\n",
       "    </tr>\n",
       "    <tr>\n",
       "      <th>3</th>\n",
       "      <td>3</td>\n",
       "      <td>0.29</td>\n",
       "      <td>62.4</td>\n",
       "      <td>58.0</td>\n",
       "      <td>4.20</td>\n",
       "      <td>4.23</td>\n",
       "      <td>2.63</td>\n",
       "      <td>334</td>\n",
       "    </tr>\n",
       "    <tr>\n",
       "      <th>4</th>\n",
       "      <td>4</td>\n",
       "      <td>0.31</td>\n",
       "      <td>63.3</td>\n",
       "      <td>58.0</td>\n",
       "      <td>4.34</td>\n",
       "      <td>4.35</td>\n",
       "      <td>2.75</td>\n",
       "      <td>335</td>\n",
       "    </tr>\n",
       "  </tbody>\n",
       "</table></div>"
      ],
      "text/plain": [
       "   index  carat  depth  table     x     y     z  price\n",
       "0      0   0.23   61.5   55.0  3.95  3.98  2.43    326\n",
       "1      1   0.21   59.8   61.0  3.89  3.84  2.31    326\n",
       "2      2   0.23   61.8   57.0  4.05  4.07  2.31    327\n",
       "3      3   0.29   62.4   58.0  4.20  4.23  2.63    334\n",
       "4      4   0.31   63.3   58.0  4.34  4.35  2.75    335"
      ]
     },
     "execution_count": 44,
     "metadata": {},
     "output_type": "execute_result"
    }
   ],
   "source": [
    "X_train_num.head()"
   ]
  },
  {
   "cell_type": "code",
   "execution_count": null,
   "id": "ae11af75",
   "metadata": {},
   "outputs": [],
   "source": []
  },
  {
   "cell_type": "markdown",
   "id": "11310219",
   "metadata": {},
   "source": [
    "## 4. Encoding on Categorical (Ordinal) Colmns as LableEncoding"
   ]
  },
  {
   "cell_type": "code",
   "execution_count": 45,
   "id": "70461661",
   "metadata": {},
   "outputs": [
    {
     "data": {
      "text/html": [
       "<div><div id=9d455f79-8747-4e50-a9b4-157fc52e7f76 style=\"display:none; background-color:#9D6CFF; color:white; width:200px; height:30px; padding-left:5px; border-radius:4px; flex-direction:row; justify-content:space-around; align-items:center;\" onmouseover=\"this.style.backgroundColor='#BA9BF8'\" onmouseout=\"this.style.backgroundColor='#9D6CFF'\" onclick=\"window.commands?.execute('create-mitosheet-from-dataframe-output');\">See Full Dataframe in Mito</div> <script> if (window.commands?.hasCommand('create-mitosheet-from-dataframe-output')) document.getElementById('9d455f79-8747-4e50-a9b4-157fc52e7f76').style.display = 'flex' </script> <table border=\"1\" class=\"dataframe\">\n",
       "  <thead>\n",
       "    <tr style=\"text-align: right;\">\n",
       "      <th></th>\n",
       "      <th>index</th>\n",
       "      <th>carat</th>\n",
       "      <th>cut</th>\n",
       "      <th>color</th>\n",
       "      <th>clarity</th>\n",
       "      <th>depth</th>\n",
       "      <th>table</th>\n",
       "      <th>x</th>\n",
       "      <th>y</th>\n",
       "      <th>z</th>\n",
       "      <th>price</th>\n",
       "    </tr>\n",
       "  </thead>\n",
       "  <tbody>\n",
       "    <tr>\n",
       "      <th>0</th>\n",
       "      <td>0</td>\n",
       "      <td>0.23</td>\n",
       "      <td>2</td>\n",
       "      <td>1</td>\n",
       "      <td>3</td>\n",
       "      <td>61.5</td>\n",
       "      <td>55.0</td>\n",
       "      <td>3.95</td>\n",
       "      <td>3.98</td>\n",
       "      <td>2.43</td>\n",
       "      <td>326</td>\n",
       "    </tr>\n",
       "    <tr>\n",
       "      <th>1</th>\n",
       "      <td>1</td>\n",
       "      <td>0.21</td>\n",
       "      <td>3</td>\n",
       "      <td>1</td>\n",
       "      <td>2</td>\n",
       "      <td>59.8</td>\n",
       "      <td>61.0</td>\n",
       "      <td>3.89</td>\n",
       "      <td>3.84</td>\n",
       "      <td>2.31</td>\n",
       "      <td>326</td>\n",
       "    </tr>\n",
       "    <tr>\n",
       "      <th>2</th>\n",
       "      <td>2</td>\n",
       "      <td>0.23</td>\n",
       "      <td>1</td>\n",
       "      <td>1</td>\n",
       "      <td>4</td>\n",
       "      <td>61.8</td>\n",
       "      <td>57.0</td>\n",
       "      <td>4.05</td>\n",
       "      <td>4.07</td>\n",
       "      <td>2.31</td>\n",
       "      <td>327</td>\n",
       "    </tr>\n",
       "    <tr>\n",
       "      <th>3</th>\n",
       "      <td>3</td>\n",
       "      <td>0.29</td>\n",
       "      <td>3</td>\n",
       "      <td>5</td>\n",
       "      <td>5</td>\n",
       "      <td>62.4</td>\n",
       "      <td>58.0</td>\n",
       "      <td>4.20</td>\n",
       "      <td>4.23</td>\n",
       "      <td>2.63</td>\n",
       "      <td>334</td>\n",
       "    </tr>\n",
       "    <tr>\n",
       "      <th>4</th>\n",
       "      <td>4</td>\n",
       "      <td>0.31</td>\n",
       "      <td>1</td>\n",
       "      <td>6</td>\n",
       "      <td>3</td>\n",
       "      <td>63.3</td>\n",
       "      <td>58.0</td>\n",
       "      <td>4.34</td>\n",
       "      <td>4.35</td>\n",
       "      <td>2.75</td>\n",
       "      <td>335</td>\n",
       "    </tr>\n",
       "  </tbody>\n",
       "</table></div>"
      ],
      "text/plain": [
       "   index  carat  cut  color  clarity  depth  table     x     y     z  price\n",
       "0      0   0.23    2      1        3   61.5   55.0  3.95  3.98  2.43    326\n",
       "1      1   0.21    3      1        2   59.8   61.0  3.89  3.84  2.31    326\n",
       "2      2   0.23    1      1        4   61.8   57.0  4.05  4.07  2.31    327\n",
       "3      3   0.29    3      5        5   62.4   58.0  4.20  4.23  2.63    334\n",
       "4      4   0.31    1      6        3   63.3   58.0  4.34  4.35  2.75    335"
      ]
     },
     "execution_count": 45,
     "metadata": {},
     "output_type": "execute_result"
    }
   ],
   "source": [
    "# working on label encoding\n",
    "from sklearn.preprocessing import LabelEncoder\n",
    "lb_Class = LabelEncoder()\n",
    "df[\"cut\"] = lb_Class.fit_transform(df[\"cut\"])\n",
    "df[\"color\"] = lb_Class.fit_transform(df[\"color\"])\n",
    "df[\"clarity\"] = lb_Class.fit_transform(df[\"clarity\"])\n",
    "df.head()"
   ]
  },
  {
   "cell_type": "code",
   "execution_count": 46,
   "id": "bf9d5483",
   "metadata": {},
   "outputs": [
    {
     "data": {
      "text/plain": [
       "0        2\n",
       "1        3\n",
       "2        1\n",
       "3        3\n",
       "4        1\n",
       "        ..\n",
       "53789    2\n",
       "53790    1\n",
       "53791    4\n",
       "53792    3\n",
       "53793    2\n",
       "Name: cut, Length: 53794, dtype: int32"
      ]
     },
     "execution_count": 46,
     "metadata": {},
     "output_type": "execute_result"
    }
   ],
   "source": [
    "df['cut']"
   ]
  },
  {
   "cell_type": "code",
   "execution_count": 47,
   "id": "5ffda32e",
   "metadata": {},
   "outputs": [
    {
     "data": {
      "text/plain": [
       "array(['Ideal', 'Premium', 'Good', 'Very Good', 'Fair'], dtype=object)"
      ]
     },
     "execution_count": 47,
     "metadata": {},
     "output_type": "execute_result"
    }
   ],
   "source": [
    " X_train_cat_le['cut'].unique()"
   ]
  },
  {
   "cell_type": "code",
   "execution_count": 48,
   "id": "5d084ffd",
   "metadata": {},
   "outputs": [
    {
     "data": {
      "text/plain": [
       "array(['E', 'I', 'J', 'H', 'F', 'G', 'D'], dtype=object)"
      ]
     },
     "execution_count": 48,
     "metadata": {},
     "output_type": "execute_result"
    }
   ],
   "source": [
    " X_train_cat_le['color'].unique()"
   ]
  },
  {
   "cell_type": "code",
   "execution_count": 49,
   "id": "ba99b368",
   "metadata": {},
   "outputs": [
    {
     "data": {
      "text/plain": [
       "array(['SI2', 'SI1', 'VS1', 'VS2', 'VVS2', 'VVS1', 'I1', 'IF'],\n",
       "      dtype=object)"
      ]
     },
     "execution_count": 49,
     "metadata": {},
     "output_type": "execute_result"
    }
   ],
   "source": [
    " X_train_cat_le['clarity'].unique()"
   ]
  },
  {
   "cell_type": "code",
   "execution_count": 50,
   "id": "f3d712a2",
   "metadata": {},
   "outputs": [],
   "source": [
    "#X_train_cat_le = pd.DataFrame(index = X_train_cat_le['cut'])    # Creating the dataframe which conatins only index\n",
    "\n",
    "#X_train_cat_le.head()"
   ]
  },
  {
   "cell_type": "code",
   "execution_count": 51,
   "id": "0ec745d4",
   "metadata": {},
   "outputs": [
    {
     "name": "stderr",
     "output_type": "stream",
     "text": [
      "C:\\Users\\admin\\AppData\\Local\\Temp/ipykernel_1732/3594139951.py:3: SettingWithCopyWarning: \n",
      "A value is trying to be set on a copy of a slice from a DataFrame.\n",
      "Try using .loc[row_indexer,col_indexer] = value instead\n",
      "\n",
      "See the caveats in the documentation: https://pandas.pydata.org/pandas-docs/stable/user_guide/indexing.html#returning-a-view-versus-a-copy\n",
      "  X_train_cat_le['cut']= X_train_cat_le['cut'].apply(lambda x: cut_encoder[x])  # Creating new columns which contains only values\n"
     ]
    },
    {
     "data": {
      "text/plain": [
       "0    4\n",
       "1    5\n",
       "2    2\n",
       "3    5\n",
       "4    2\n",
       "Name: cut, dtype: int64"
      ]
     },
     "execution_count": 51,
     "metadata": {},
     "output_type": "execute_result"
    }
   ],
   "source": [
    "cut_encoder = {'Fair':1, 'Good':2, 'Very Good':3, 'Ideal':4, 'Premium':5}\n",
    "\n",
    "X_train_cat_le['cut']= X_train_cat_le['cut'].apply(lambda x: cut_encoder[x])  # Creating new columns which contains only values\n",
    "\n",
    "X_train_cat_le['cut'].head()"
   ]
  },
  {
   "cell_type": "code",
   "execution_count": 52,
   "id": "0506fde3",
   "metadata": {},
   "outputs": [
    {
     "data": {
      "text/plain": [
       "array(['E', 'I', 'J', 'H', 'F', 'G', 'D'], dtype=object)"
      ]
     },
     "execution_count": 52,
     "metadata": {},
     "output_type": "execute_result"
    }
   ],
   "source": [
    " X_train_cat_le['color'].unique()"
   ]
  },
  {
   "cell_type": "code",
   "execution_count": 53,
   "id": "ae5bbc20",
   "metadata": {},
   "outputs": [
    {
     "name": "stderr",
     "output_type": "stream",
     "text": [
      "C:\\Users\\admin\\AppData\\Local\\Temp/ipykernel_1732/3336264028.py:3: SettingWithCopyWarning: \n",
      "A value is trying to be set on a copy of a slice from a DataFrame.\n",
      "Try using .loc[row_indexer,col_indexer] = value instead\n",
      "\n",
      "See the caveats in the documentation: https://pandas.pydata.org/pandas-docs/stable/user_guide/indexing.html#returning-a-view-versus-a-copy\n",
      "  X_train_cat_le['color'] = X_train_cat_le['color'].apply(lambda x: color_encoder[x]) #Creating new columns which contains only values\n"
     ]
    },
    {
     "data": {
      "text/html": [
       "<div><div id=5e40f0f8-c63e-4bd9-a5df-77d51892779c style=\"display:none; background-color:#9D6CFF; color:white; width:200px; height:30px; padding-left:5px; border-radius:4px; flex-direction:row; justify-content:space-around; align-items:center;\" onmouseover=\"this.style.backgroundColor='#BA9BF8'\" onmouseout=\"this.style.backgroundColor='#9D6CFF'\" onclick=\"window.commands?.execute('create-mitosheet-from-dataframe-output');\">See Full Dataframe in Mito</div> <script> if (window.commands?.hasCommand('create-mitosheet-from-dataframe-output')) document.getElementById('5e40f0f8-c63e-4bd9-a5df-77d51892779c').style.display = 'flex' </script> <table border=\"1\" class=\"dataframe\">\n",
       "  <thead>\n",
       "    <tr style=\"text-align: right;\">\n",
       "      <th></th>\n",
       "      <th>cut</th>\n",
       "      <th>color</th>\n",
       "      <th>clarity</th>\n",
       "    </tr>\n",
       "  </thead>\n",
       "  <tbody>\n",
       "    <tr>\n",
       "      <th>0</th>\n",
       "      <td>4</td>\n",
       "      <td>6</td>\n",
       "      <td>SI2</td>\n",
       "    </tr>\n",
       "    <tr>\n",
       "      <th>1</th>\n",
       "      <td>5</td>\n",
       "      <td>6</td>\n",
       "      <td>SI1</td>\n",
       "    </tr>\n",
       "    <tr>\n",
       "      <th>2</th>\n",
       "      <td>2</td>\n",
       "      <td>6</td>\n",
       "      <td>VS1</td>\n",
       "    </tr>\n",
       "    <tr>\n",
       "      <th>3</th>\n",
       "      <td>5</td>\n",
       "      <td>2</td>\n",
       "      <td>VS2</td>\n",
       "    </tr>\n",
       "    <tr>\n",
       "      <th>4</th>\n",
       "      <td>2</td>\n",
       "      <td>1</td>\n",
       "      <td>SI2</td>\n",
       "    </tr>\n",
       "  </tbody>\n",
       "</table></div>"
      ],
      "text/plain": [
       "   cut  color clarity\n",
       "0    4      6     SI2\n",
       "1    5      6     SI1\n",
       "2    2      6     VS1\n",
       "3    5      2     VS2\n",
       "4    2      1     SI2"
      ]
     },
     "execution_count": 53,
     "metadata": {},
     "output_type": "execute_result"
    }
   ],
   "source": [
    "color_encoder = {'J':1, 'I':2, 'H':3, 'G':4, 'F':5, 'E':6, 'D':7}\n",
    "\n",
    "X_train_cat_le['color'] = X_train_cat_le['color'].apply(lambda x: color_encoder[x]) #Creating new columns which contains only values\n",
    "\n",
    "X_train_cat_le.head()"
   ]
  },
  {
   "cell_type": "code",
   "execution_count": 54,
   "id": "49695b21",
   "metadata": {},
   "outputs": [
    {
     "data": {
      "text/plain": [
       "array(['SI2', 'SI1', 'VS1', 'VS2', 'VVS2', 'VVS1', 'I1', 'IF'],\n",
       "      dtype=object)"
      ]
     },
     "execution_count": 54,
     "metadata": {},
     "output_type": "execute_result"
    }
   ],
   "source": [
    " X_train_cat_le['clarity'].unique()"
   ]
  },
  {
   "cell_type": "code",
   "execution_count": 55,
   "id": "a089dd65",
   "metadata": {},
   "outputs": [
    {
     "name": "stderr",
     "output_type": "stream",
     "text": [
      "C:\\Users\\admin\\AppData\\Local\\Temp/ipykernel_1732/1898147216.py:3: SettingWithCopyWarning: \n",
      "A value is trying to be set on a copy of a slice from a DataFrame.\n",
      "Try using .loc[row_indexer,col_indexer] = value instead\n",
      "\n",
      "See the caveats in the documentation: https://pandas.pydata.org/pandas-docs/stable/user_guide/indexing.html#returning-a-view-versus-a-copy\n",
      "  X_train_cat_le['clarity'] = X_train_cat_le['clarity'].apply(lambda x: clarity_encoder[x])\n"
     ]
    },
    {
     "data": {
      "text/html": [
       "<div><div id=ee3f8b8f-cc91-41b1-9f30-43fb1bd324bd style=\"display:none; background-color:#9D6CFF; color:white; width:200px; height:30px; padding-left:5px; border-radius:4px; flex-direction:row; justify-content:space-around; align-items:center;\" onmouseover=\"this.style.backgroundColor='#BA9BF8'\" onmouseout=\"this.style.backgroundColor='#9D6CFF'\" onclick=\"window.commands?.execute('create-mitosheet-from-dataframe-output');\">See Full Dataframe in Mito</div> <script> if (window.commands?.hasCommand('create-mitosheet-from-dataframe-output')) document.getElementById('ee3f8b8f-cc91-41b1-9f30-43fb1bd324bd').style.display = 'flex' </script> <table border=\"1\" class=\"dataframe\">\n",
       "  <thead>\n",
       "    <tr style=\"text-align: right;\">\n",
       "      <th></th>\n",
       "      <th>cut</th>\n",
       "      <th>color</th>\n",
       "      <th>clarity</th>\n",
       "    </tr>\n",
       "  </thead>\n",
       "  <tbody>\n",
       "    <tr>\n",
       "      <th>0</th>\n",
       "      <td>4</td>\n",
       "      <td>6</td>\n",
       "      <td>2</td>\n",
       "    </tr>\n",
       "    <tr>\n",
       "      <th>1</th>\n",
       "      <td>5</td>\n",
       "      <td>6</td>\n",
       "      <td>3</td>\n",
       "    </tr>\n",
       "    <tr>\n",
       "      <th>2</th>\n",
       "      <td>2</td>\n",
       "      <td>6</td>\n",
       "      <td>5</td>\n",
       "    </tr>\n",
       "    <tr>\n",
       "      <th>3</th>\n",
       "      <td>5</td>\n",
       "      <td>2</td>\n",
       "      <td>4</td>\n",
       "    </tr>\n",
       "    <tr>\n",
       "      <th>4</th>\n",
       "      <td>2</td>\n",
       "      <td>1</td>\n",
       "      <td>2</td>\n",
       "    </tr>\n",
       "  </tbody>\n",
       "</table></div>"
      ],
      "text/plain": [
       "   cut  color  clarity\n",
       "0    4      6        2\n",
       "1    5      6        3\n",
       "2    2      6        5\n",
       "3    5      2        4\n",
       "4    2      1        2"
      ]
     },
     "execution_count": 55,
     "metadata": {},
     "output_type": "execute_result"
    }
   ],
   "source": [
    "clarity_encoder = {'I1':1, 'SI2':2, 'SI1':3, 'VS2':4, 'VS1':5, 'VVS2':6, 'VVS1':7, 'IF':8}   #Creating new columns which contains only values\n",
    "\n",
    "X_train_cat_le['clarity'] = X_train_cat_le['clarity'].apply(lambda x: clarity_encoder[x])   \n",
    "\n",
    "X_train_cat_le.head()"
   ]
  },
  {
   "cell_type": "code",
   "execution_count": 56,
   "id": "66fdc2da",
   "metadata": {},
   "outputs": [
    {
     "data": {
      "text/html": [
       "<div><div id=c11ebd35-8e87-4349-8360-484949da36a6 style=\"display:none; background-color:#9D6CFF; color:white; width:200px; height:30px; padding-left:5px; border-radius:4px; flex-direction:row; justify-content:space-around; align-items:center;\" onmouseover=\"this.style.backgroundColor='#BA9BF8'\" onmouseout=\"this.style.backgroundColor='#9D6CFF'\" onclick=\"window.commands?.execute('create-mitosheet-from-dataframe-output');\">See Full Dataframe in Mito</div> <script> if (window.commands?.hasCommand('create-mitosheet-from-dataframe-output')) document.getElementById('c11ebd35-8e87-4349-8360-484949da36a6').style.display = 'flex' </script> <table border=\"1\" class=\"dataframe\">\n",
       "  <thead>\n",
       "    <tr style=\"text-align: right;\">\n",
       "      <th></th>\n",
       "      <th>cut</th>\n",
       "      <th>color</th>\n",
       "      <th>clarity</th>\n",
       "    </tr>\n",
       "  </thead>\n",
       "  <tbody>\n",
       "    <tr>\n",
       "      <th>0</th>\n",
       "      <td>4</td>\n",
       "      <td>6</td>\n",
       "      <td>2</td>\n",
       "    </tr>\n",
       "    <tr>\n",
       "      <th>1</th>\n",
       "      <td>5</td>\n",
       "      <td>6</td>\n",
       "      <td>3</td>\n",
       "    </tr>\n",
       "    <tr>\n",
       "      <th>2</th>\n",
       "      <td>2</td>\n",
       "      <td>6</td>\n",
       "      <td>5</td>\n",
       "    </tr>\n",
       "    <tr>\n",
       "      <th>3</th>\n",
       "      <td>5</td>\n",
       "      <td>2</td>\n",
       "      <td>4</td>\n",
       "    </tr>\n",
       "    <tr>\n",
       "      <th>4</th>\n",
       "      <td>2</td>\n",
       "      <td>1</td>\n",
       "      <td>2</td>\n",
       "    </tr>\n",
       "  </tbody>\n",
       "</table></div>"
      ],
      "text/plain": [
       "   cut  color  clarity\n",
       "0    4      6        2\n",
       "1    5      6        3\n",
       "2    2      6        5\n",
       "3    5      2        4\n",
       "4    2      1        2"
      ]
     },
     "execution_count": 56,
     "metadata": {},
     "output_type": "execute_result"
    }
   ],
   "source": [
    " X_train_cat_le.head()"
   ]
  },
  {
   "cell_type": "code",
   "execution_count": null,
   "id": "e03b8413",
   "metadata": {},
   "outputs": [],
   "source": []
  },
  {
   "cell_type": "markdown",
   "id": "8adcb72d",
   "metadata": {},
   "source": [
    "## 5. Standardization on numerical columns"
   ]
  },
  {
   "cell_type": "code",
   "execution_count": 57,
   "id": "885e3183",
   "metadata": {},
   "outputs": [
    {
     "data": {
      "text/html": [
       "<div><div id=24800f61-fb22-40e1-8796-ddde3d5815dd style=\"display:none; background-color:#9D6CFF; color:white; width:200px; height:30px; padding-left:5px; border-radius:4px; flex-direction:row; justify-content:space-around; align-items:center;\" onmouseover=\"this.style.backgroundColor='#BA9BF8'\" onmouseout=\"this.style.backgroundColor='#9D6CFF'\" onclick=\"window.commands?.execute('create-mitosheet-from-dataframe-output');\">See Full Dataframe in Mito</div> <script> if (window.commands?.hasCommand('create-mitosheet-from-dataframe-output')) document.getElementById('24800f61-fb22-40e1-8796-ddde3d5815dd').style.display = 'flex' </script> <table border=\"1\" class=\"dataframe\">\n",
       "  <thead>\n",
       "    <tr style=\"text-align: right;\">\n",
       "      <th></th>\n",
       "      <th>index</th>\n",
       "      <th>carat</th>\n",
       "      <th>depth</th>\n",
       "      <th>table</th>\n",
       "      <th>x</th>\n",
       "      <th>y</th>\n",
       "      <th>z</th>\n",
       "      <th>price</th>\n",
       "    </tr>\n",
       "  </thead>\n",
       "  <tbody>\n",
       "    <tr>\n",
       "      <th>0</th>\n",
       "      <td>0</td>\n",
       "      <td>0.23</td>\n",
       "      <td>61.5</td>\n",
       "      <td>55.0</td>\n",
       "      <td>3.95</td>\n",
       "      <td>3.98</td>\n",
       "      <td>2.43</td>\n",
       "      <td>326</td>\n",
       "    </tr>\n",
       "    <tr>\n",
       "      <th>1</th>\n",
       "      <td>1</td>\n",
       "      <td>0.21</td>\n",
       "      <td>59.8</td>\n",
       "      <td>61.0</td>\n",
       "      <td>3.89</td>\n",
       "      <td>3.84</td>\n",
       "      <td>2.31</td>\n",
       "      <td>326</td>\n",
       "    </tr>\n",
       "    <tr>\n",
       "      <th>2</th>\n",
       "      <td>2</td>\n",
       "      <td>0.23</td>\n",
       "      <td>61.8</td>\n",
       "      <td>57.0</td>\n",
       "      <td>4.05</td>\n",
       "      <td>4.07</td>\n",
       "      <td>2.31</td>\n",
       "      <td>327</td>\n",
       "    </tr>\n",
       "    <tr>\n",
       "      <th>3</th>\n",
       "      <td>3</td>\n",
       "      <td>0.29</td>\n",
       "      <td>62.4</td>\n",
       "      <td>58.0</td>\n",
       "      <td>4.20</td>\n",
       "      <td>4.23</td>\n",
       "      <td>2.63</td>\n",
       "      <td>334</td>\n",
       "    </tr>\n",
       "    <tr>\n",
       "      <th>4</th>\n",
       "      <td>4</td>\n",
       "      <td>0.31</td>\n",
       "      <td>63.3</td>\n",
       "      <td>58.0</td>\n",
       "      <td>4.34</td>\n",
       "      <td>4.35</td>\n",
       "      <td>2.75</td>\n",
       "      <td>335</td>\n",
       "    </tr>\n",
       "  </tbody>\n",
       "</table></div>"
      ],
      "text/plain": [
       "   index  carat  depth  table     x     y     z  price\n",
       "0      0   0.23   61.5   55.0  3.95  3.98  2.43    326\n",
       "1      1   0.21   59.8   61.0  3.89  3.84  2.31    326\n",
       "2      2   0.23   61.8   57.0  4.05  4.07  2.31    327\n",
       "3      3   0.29   62.4   58.0  4.20  4.23  2.63    334\n",
       "4      4   0.31   63.3   58.0  4.34  4.35  2.75    335"
      ]
     },
     "execution_count": 57,
     "metadata": {},
     "output_type": "execute_result"
    }
   ],
   "source": [
    "X_train_num.head()#just checking with numeric.head"
   ]
  },
  {
   "cell_type": "code",
   "execution_count": 58,
   "id": "645e91bd",
   "metadata": {},
   "outputs": [
    {
     "data": {
      "text/html": [
       "<div><div id=2214e428-c852-4952-9517-ddbe84eebf9c style=\"display:none; background-color:#9D6CFF; color:white; width:200px; height:30px; padding-left:5px; border-radius:4px; flex-direction:row; justify-content:space-around; align-items:center;\" onmouseover=\"this.style.backgroundColor='#BA9BF8'\" onmouseout=\"this.style.backgroundColor='#9D6CFF'\" onclick=\"window.commands?.execute('create-mitosheet-from-dataframe-output');\">See Full Dataframe in Mito</div> <script> if (window.commands?.hasCommand('create-mitosheet-from-dataframe-output')) document.getElementById('2214e428-c852-4952-9517-ddbe84eebf9c').style.display = 'flex' </script> <table border=\"1\" class=\"dataframe\">\n",
       "  <thead>\n",
       "    <tr style=\"text-align: right;\">\n",
       "      <th></th>\n",
       "      <th>index</th>\n",
       "      <th>carat</th>\n",
       "      <th>depth</th>\n",
       "      <th>table</th>\n",
       "      <th>x</th>\n",
       "      <th>y</th>\n",
       "      <th>z</th>\n",
       "      <th>price</th>\n",
       "    </tr>\n",
       "  </thead>\n",
       "  <tbody>\n",
       "    <tr>\n",
       "      <th>0</th>\n",
       "      <td>-1.731406</td>\n",
       "      <td>-1.328119</td>\n",
       "      <td>-0.253789</td>\n",
       "      <td>-1.149015</td>\n",
       "      <td>-1.595612</td>\n",
       "      <td>-1.581472</td>\n",
       "      <td>-1.609283</td>\n",
       "      <td>-0.904462</td>\n",
       "    </tr>\n",
       "    <tr>\n",
       "      <th>1</th>\n",
       "      <td>-1.731342</td>\n",
       "      <td>-1.380182</td>\n",
       "      <td>-1.812883</td>\n",
       "      <td>1.759639</td>\n",
       "      <td>-1.649391</td>\n",
       "      <td>-1.707820</td>\n",
       "      <td>-1.783546</td>\n",
       "      <td>-0.904462</td>\n",
       "    </tr>\n",
       "    <tr>\n",
       "      <th>2</th>\n",
       "      <td>-1.731278</td>\n",
       "      <td>-1.328119</td>\n",
       "      <td>0.021345</td>\n",
       "      <td>-0.179464</td>\n",
       "      <td>-1.505981</td>\n",
       "      <td>-1.500249</td>\n",
       "      <td>-1.783546</td>\n",
       "      <td>-0.904211</td>\n",
       "    </tr>\n",
       "    <tr>\n",
       "      <th>3</th>\n",
       "      <td>-1.731214</td>\n",
       "      <td>-1.171930</td>\n",
       "      <td>0.571613</td>\n",
       "      <td>0.305312</td>\n",
       "      <td>-1.371534</td>\n",
       "      <td>-1.355851</td>\n",
       "      <td>-1.318845</td>\n",
       "      <td>-0.902456</td>\n",
       "    </tr>\n",
       "    <tr>\n",
       "      <th>4</th>\n",
       "      <td>-1.731149</td>\n",
       "      <td>-1.119867</td>\n",
       "      <td>1.397016</td>\n",
       "      <td>0.305312</td>\n",
       "      <td>-1.246050</td>\n",
       "      <td>-1.247553</td>\n",
       "      <td>-1.144581</td>\n",
       "      <td>-0.902205</td>\n",
       "    </tr>\n",
       "  </tbody>\n",
       "</table></div>"
      ],
      "text/plain": [
       "      index     carat     depth     table         x         y         z  \\\n",
       "0 -1.731406 -1.328119 -0.253789 -1.149015 -1.595612 -1.581472 -1.609283   \n",
       "1 -1.731342 -1.380182 -1.812883  1.759639 -1.649391 -1.707820 -1.783546   \n",
       "2 -1.731278 -1.328119  0.021345 -0.179464 -1.505981 -1.500249 -1.783546   \n",
       "3 -1.731214 -1.171930  0.571613  0.305312 -1.371534 -1.355851 -1.318845   \n",
       "4 -1.731149 -1.119867  1.397016  0.305312 -1.246050 -1.247553 -1.144581   \n",
       "\n",
       "      price  \n",
       "0 -0.904462  \n",
       "1 -0.904462  \n",
       "2 -0.904211  \n",
       "3 -0.902456  \n",
       "4 -0.902205  "
      ]
     },
     "execution_count": 58,
     "metadata": {},
     "output_type": "execute_result"
    }
   ],
   "source": [
    "# Scaling the Numericals Features\n",
    "\n",
    "from sklearn.preprocessing import StandardScaler\n",
    "\n",
    "scaler = StandardScaler()  # z-transform = x-mu/std\n",
    "\n",
    "# Columns names are converted into the values of columns after OneHotCoding\n",
    "# Dataframe converted into numpy ndarray\n",
    "\n",
    "\n",
    "X_train_num_rescaled = pd.DataFrame(scaler.fit_transform(X_train_num), \n",
    "                                    columns = X_train_num.columns, \n",
    "                                    index = X_train_num.index)\n",
    "\n",
    "X_train_num_rescaled.head()"
   ]
  },
  {
   "cell_type": "markdown",
   "id": "e0dd6ae8",
   "metadata": {},
   "source": [
    "## 6. Concatinating the Encoded Categorical columns and Scaled Numericals Columns"
   ]
  },
  {
   "cell_type": "code",
   "execution_count": 59,
   "id": "857eacbc",
   "metadata": {},
   "outputs": [
    {
     "data": {
      "text/plain": [
       "<bound method NDFrame.head of        cut  color  clarity  index  carat  depth  table     x     y     z  \\\n",
       "0        4      6        2      0   0.23   61.5   55.0  3.95  3.98  2.43   \n",
       "1        5      6        3      1   0.21   59.8   61.0  3.89  3.84  2.31   \n",
       "2        2      6        5      2   0.23   61.8   57.0  4.05  4.07  2.31   \n",
       "3        5      2        4      3   0.29   62.4   58.0  4.20  4.23  2.63   \n",
       "4        2      1        2      4   0.31   63.3   58.0  4.34  4.35  2.75   \n",
       "...    ...    ...      ...    ...    ...    ...    ...   ...   ...   ...   \n",
       "53789    4      7        3  53935   0.72   60.8   57.0  5.75  5.76  3.50   \n",
       "53790    2      7        3  53936   0.72   63.1   55.0  5.69  5.75  3.61   \n",
       "53791    3      7        3  53937   0.70   62.8   60.0  5.66  5.68  3.56   \n",
       "53792    5      3        2  53938   0.86   61.0   58.0  6.15  6.12  3.74   \n",
       "53793    4      7        2  53939   0.75   62.2   55.0  5.83  5.87  3.64   \n",
       "\n",
       "       price  \n",
       "0        326  \n",
       "1        326  \n",
       "2        327  \n",
       "3        334  \n",
       "4        335  \n",
       "...      ...  \n",
       "53789   2757  \n",
       "53790   2757  \n",
       "53791   2757  \n",
       "53792   2757  \n",
       "53793   2757  \n",
       "\n",
       "[53794 rows x 11 columns]>"
      ]
     },
     "execution_count": 59,
     "metadata": {},
     "output_type": "execute_result"
    }
   ],
   "source": [
    "X_train_transformed = pd.concat([X_train_cat_le, X_train_num], axis = 1)\n",
    "\n",
    "X_train_transformed.head"
   ]
  },
  {
   "cell_type": "markdown",
   "id": "97b2ab0a",
   "metadata": {},
   "source": [
    "## Same steps of data preprocessing used for Test Data"
   ]
  },
  {
   "cell_type": "markdown",
   "id": "501b225d",
   "metadata": {},
   "source": [
    "## 1. Separating Categorical and Numerical Columns(Test)"
   ]
  },
  {
   "cell_type": "code",
   "execution_count": 60,
   "id": "116a02d7",
   "metadata": {},
   "outputs": [
    {
     "data": {
      "text/html": [
       "<div><div id=fcddd13b-a646-4522-8893-c7d7b7b8d826 style=\"display:none; background-color:#9D6CFF; color:white; width:200px; height:30px; padding-left:5px; border-radius:4px; flex-direction:row; justify-content:space-around; align-items:center;\" onmouseover=\"this.style.backgroundColor='#BA9BF8'\" onmouseout=\"this.style.backgroundColor='#9D6CFF'\" onclick=\"window.commands?.execute('create-mitosheet-from-dataframe-output');\">See Full Dataframe in Mito</div> <script> if (window.commands?.hasCommand('create-mitosheet-from-dataframe-output')) document.getElementById('fcddd13b-a646-4522-8893-c7d7b7b8d826').style.display = 'flex' </script> <table border=\"1\" class=\"dataframe\">\n",
       "  <thead>\n",
       "    <tr style=\"text-align: right;\">\n",
       "      <th></th>\n",
       "      <th>index</th>\n",
       "      <th>carat</th>\n",
       "      <th>cut</th>\n",
       "      <th>color</th>\n",
       "      <th>clarity</th>\n",
       "      <th>depth</th>\n",
       "      <th>table</th>\n",
       "      <th>x</th>\n",
       "      <th>y</th>\n",
       "      <th>z</th>\n",
       "    </tr>\n",
       "  </thead>\n",
       "  <tbody>\n",
       "    <tr>\n",
       "      <th>28227</th>\n",
       "      <td>28297</td>\n",
       "      <td>0.24</td>\n",
       "      <td>Ideal</td>\n",
       "      <td>I</td>\n",
       "      <td>VVS1</td>\n",
       "      <td>62.3</td>\n",
       "      <td>57.0</td>\n",
       "      <td>3.98</td>\n",
       "      <td>3.95</td>\n",
       "      <td>2.47</td>\n",
       "    </tr>\n",
       "    <tr>\n",
       "      <th>17317</th>\n",
       "      <td>17356</td>\n",
       "      <td>1.01</td>\n",
       "      <td>Ideal</td>\n",
       "      <td>G</td>\n",
       "      <td>VS2</td>\n",
       "      <td>62.6</td>\n",
       "      <td>56.0</td>\n",
       "      <td>6.41</td>\n",
       "      <td>6.44</td>\n",
       "      <td>4.02</td>\n",
       "    </tr>\n",
       "    <tr>\n",
       "      <th>48740</th>\n",
       "      <td>48882</td>\n",
       "      <td>0.73</td>\n",
       "      <td>Premium</td>\n",
       "      <td>J</td>\n",
       "      <td>VS1</td>\n",
       "      <td>60.2</td>\n",
       "      <td>58.0</td>\n",
       "      <td>5.87</td>\n",
       "      <td>5.82</td>\n",
       "      <td>3.52</td>\n",
       "    </tr>\n",
       "    <tr>\n",
       "      <th>19859</th>\n",
       "      <td>19901</td>\n",
       "      <td>1.05</td>\n",
       "      <td>Ideal</td>\n",
       "      <td>D</td>\n",
       "      <td>VS2</td>\n",
       "      <td>61.0</td>\n",
       "      <td>56.0</td>\n",
       "      <td>6.54</td>\n",
       "      <td>6.61</td>\n",
       "      <td>4.01</td>\n",
       "    </tr>\n",
       "    <tr>\n",
       "      <th>44240</th>\n",
       "      <td>44377</td>\n",
       "      <td>0.52</td>\n",
       "      <td>Very Good</td>\n",
       "      <td>G</td>\n",
       "      <td>VS1</td>\n",
       "      <td>61.8</td>\n",
       "      <td>58.0</td>\n",
       "      <td>5.19</td>\n",
       "      <td>5.16</td>\n",
       "      <td>3.20</td>\n",
       "    </tr>\n",
       "  </tbody>\n",
       "</table></div>"
      ],
      "text/plain": [
       "       index  carat        cut color clarity  depth  table     x     y     z\n",
       "28227  28297   0.24      Ideal     I    VVS1   62.3   57.0  3.98  3.95  2.47\n",
       "17317  17356   1.01      Ideal     G     VS2   62.6   56.0  6.41  6.44  4.02\n",
       "48740  48882   0.73    Premium     J     VS1   60.2   58.0  5.87  5.82  3.52\n",
       "19859  19901   1.05      Ideal     D     VS2   61.0   56.0  6.54  6.61  4.01\n",
       "44240  44377   0.52  Very Good     G     VS1   61.8   58.0  5.19  5.16  3.20"
      ]
     },
     "execution_count": 60,
     "metadata": {},
     "output_type": "execute_result"
    }
   ],
   "source": [
    "X_test.head()"
   ]
  },
  {
   "cell_type": "code",
   "execution_count": 61,
   "id": "b1f650cf",
   "metadata": {},
   "outputs": [
    {
     "name": "stdout",
     "output_type": "stream",
     "text": [
      "<class 'pandas.core.frame.DataFrame'>\n",
      "Int64Index: 13449 entries, 28227 to 42302\n",
      "Data columns (total 10 columns):\n",
      " #   Column   Non-Null Count  Dtype  \n",
      "---  ------   --------------  -----  \n",
      " 0   index    13449 non-null  int64  \n",
      " 1   carat    13449 non-null  float64\n",
      " 2   cut      13449 non-null  object \n",
      " 3   color    13449 non-null  object \n",
      " 4   clarity  13449 non-null  object \n",
      " 5   depth    13449 non-null  float64\n",
      " 6   table    13449 non-null  float64\n",
      " 7   x        13449 non-null  float64\n",
      " 8   y        13449 non-null  float64\n",
      " 9   z        13449 non-null  float64\n",
      "dtypes: float64(6), int64(1), object(3)\n",
      "memory usage: 1.1+ MB\n"
     ]
    }
   ],
   "source": [
    "X_test.info()"
   ]
  },
  {
   "cell_type": "code",
   "execution_count": 62,
   "id": "552d8995",
   "metadata": {},
   "outputs": [
    {
     "data": {
      "text/html": [
       "<div><div id=d9f860de-4792-4354-ae72-b0dc32a73e02 style=\"display:none; background-color:#9D6CFF; color:white; width:200px; height:30px; padding-left:5px; border-radius:4px; flex-direction:row; justify-content:space-around; align-items:center;\" onmouseover=\"this.style.backgroundColor='#BA9BF8'\" onmouseout=\"this.style.backgroundColor='#9D6CFF'\" onclick=\"window.commands?.execute('create-mitosheet-from-dataframe-output');\">See Full Dataframe in Mito</div> <script> if (window.commands?.hasCommand('create-mitosheet-from-dataframe-output')) document.getElementById('d9f860de-4792-4354-ae72-b0dc32a73e02').style.display = 'flex' </script> <table border=\"1\" class=\"dataframe\">\n",
       "  <thead>\n",
       "    <tr style=\"text-align: right;\">\n",
       "      <th></th>\n",
       "      <th>cut</th>\n",
       "      <th>color</th>\n",
       "      <th>clarity</th>\n",
       "    </tr>\n",
       "  </thead>\n",
       "  <tbody>\n",
       "    <tr>\n",
       "      <th>28227</th>\n",
       "      <td>Ideal</td>\n",
       "      <td>I</td>\n",
       "      <td>VVS1</td>\n",
       "    </tr>\n",
       "    <tr>\n",
       "      <th>17317</th>\n",
       "      <td>Ideal</td>\n",
       "      <td>G</td>\n",
       "      <td>VS2</td>\n",
       "    </tr>\n",
       "    <tr>\n",
       "      <th>48740</th>\n",
       "      <td>Premium</td>\n",
       "      <td>J</td>\n",
       "      <td>VS1</td>\n",
       "    </tr>\n",
       "    <tr>\n",
       "      <th>19859</th>\n",
       "      <td>Ideal</td>\n",
       "      <td>D</td>\n",
       "      <td>VS2</td>\n",
       "    </tr>\n",
       "    <tr>\n",
       "      <th>44240</th>\n",
       "      <td>Very Good</td>\n",
       "      <td>G</td>\n",
       "      <td>VS1</td>\n",
       "    </tr>\n",
       "  </tbody>\n",
       "</table></div>"
      ],
      "text/plain": [
       "             cut color clarity\n",
       "28227      Ideal     I    VVS1\n",
       "17317      Ideal     G     VS2\n",
       "48740    Premium     J     VS1\n",
       "19859      Ideal     D     VS2\n",
       "44240  Very Good     G     VS1"
      ]
     },
     "execution_count": 62,
     "metadata": {},
     "output_type": "execute_result"
    }
   ],
   "source": [
    "X_test_cat = X_test.select_dtypes(include=['object'])\n",
    "\n",
    "X_test_cat.head()"
   ]
  },
  {
   "cell_type": "code",
   "execution_count": 63,
   "id": "0b9037d6",
   "metadata": {},
   "outputs": [
    {
     "data": {
      "text/html": [
       "<div><div id=5d9d7f1d-2b73-4f4f-9f65-b8c27be0e3bc style=\"display:none; background-color:#9D6CFF; color:white; width:200px; height:30px; padding-left:5px; border-radius:4px; flex-direction:row; justify-content:space-around; align-items:center;\" onmouseover=\"this.style.backgroundColor='#BA9BF8'\" onmouseout=\"this.style.backgroundColor='#9D6CFF'\" onclick=\"window.commands?.execute('create-mitosheet-from-dataframe-output');\">See Full Dataframe in Mito</div> <script> if (window.commands?.hasCommand('create-mitosheet-from-dataframe-output')) document.getElementById('5d9d7f1d-2b73-4f4f-9f65-b8c27be0e3bc').style.display = 'flex' </script> <table border=\"1\" class=\"dataframe\">\n",
       "  <thead>\n",
       "    <tr style=\"text-align: right;\">\n",
       "      <th></th>\n",
       "      <th>index</th>\n",
       "      <th>carat</th>\n",
       "      <th>depth</th>\n",
       "      <th>table</th>\n",
       "      <th>x</th>\n",
       "      <th>y</th>\n",
       "      <th>z</th>\n",
       "    </tr>\n",
       "  </thead>\n",
       "  <tbody>\n",
       "    <tr>\n",
       "      <th>28227</th>\n",
       "      <td>28297</td>\n",
       "      <td>0.24</td>\n",
       "      <td>62.3</td>\n",
       "      <td>57.0</td>\n",
       "      <td>3.98</td>\n",
       "      <td>3.95</td>\n",
       "      <td>2.47</td>\n",
       "    </tr>\n",
       "    <tr>\n",
       "      <th>17317</th>\n",
       "      <td>17356</td>\n",
       "      <td>1.01</td>\n",
       "      <td>62.6</td>\n",
       "      <td>56.0</td>\n",
       "      <td>6.41</td>\n",
       "      <td>6.44</td>\n",
       "      <td>4.02</td>\n",
       "    </tr>\n",
       "    <tr>\n",
       "      <th>48740</th>\n",
       "      <td>48882</td>\n",
       "      <td>0.73</td>\n",
       "      <td>60.2</td>\n",
       "      <td>58.0</td>\n",
       "      <td>5.87</td>\n",
       "      <td>5.82</td>\n",
       "      <td>3.52</td>\n",
       "    </tr>\n",
       "    <tr>\n",
       "      <th>19859</th>\n",
       "      <td>19901</td>\n",
       "      <td>1.05</td>\n",
       "      <td>61.0</td>\n",
       "      <td>56.0</td>\n",
       "      <td>6.54</td>\n",
       "      <td>6.61</td>\n",
       "      <td>4.01</td>\n",
       "    </tr>\n",
       "    <tr>\n",
       "      <th>44240</th>\n",
       "      <td>44377</td>\n",
       "      <td>0.52</td>\n",
       "      <td>61.8</td>\n",
       "      <td>58.0</td>\n",
       "      <td>5.19</td>\n",
       "      <td>5.16</td>\n",
       "      <td>3.20</td>\n",
       "    </tr>\n",
       "  </tbody>\n",
       "</table></div>"
      ],
      "text/plain": [
       "       index  carat  depth  table     x     y     z\n",
       "28227  28297   0.24   62.3   57.0  3.98  3.95  2.47\n",
       "17317  17356   1.01   62.6   56.0  6.41  6.44  4.02\n",
       "48740  48882   0.73   60.2   58.0  5.87  5.82  3.52\n",
       "19859  19901   1.05   61.0   56.0  6.54  6.61  4.01\n",
       "44240  44377   0.52   61.8   58.0  5.19  5.16  3.20"
      ]
     },
     "execution_count": 63,
     "metadata": {},
     "output_type": "execute_result"
    }
   ],
   "source": [
    "X_test_num = X_test.select_dtypes(include=['int64', 'float64'])\n",
    "\n",
    "X_test_num.head()"
   ]
  },
  {
   "cell_type": "markdown",
   "id": "46080bfb",
   "metadata": {},
   "source": [
    "## 2. Encoding on Categorical(Ordinal) Colmns as LableEncoding(Test)"
   ]
  },
  {
   "cell_type": "code",
   "execution_count": 64,
   "id": "17ad77a4",
   "metadata": {},
   "outputs": [
    {
     "data": {
      "text/html": [
       "<div><div id=0873a731-ec4c-4bc3-b249-837daf63bcd0 style=\"display:none; background-color:#9D6CFF; color:white; width:200px; height:30px; padding-left:5px; border-radius:4px; flex-direction:row; justify-content:space-around; align-items:center;\" onmouseover=\"this.style.backgroundColor='#BA9BF8'\" onmouseout=\"this.style.backgroundColor='#9D6CFF'\" onclick=\"window.commands?.execute('create-mitosheet-from-dataframe-output');\">See Full Dataframe in Mito</div> <script> if (window.commands?.hasCommand('create-mitosheet-from-dataframe-output')) document.getElementById('0873a731-ec4c-4bc3-b249-837daf63bcd0').style.display = 'flex' </script> <table border=\"1\" class=\"dataframe\">\n",
       "  <thead>\n",
       "    <tr style=\"text-align: right;\">\n",
       "      <th></th>\n",
       "    </tr>\n",
       "  </thead>\n",
       "  <tbody>\n",
       "    <tr>\n",
       "      <th>28227</th>\n",
       "    </tr>\n",
       "    <tr>\n",
       "      <th>17317</th>\n",
       "    </tr>\n",
       "    <tr>\n",
       "      <th>48740</th>\n",
       "    </tr>\n",
       "    <tr>\n",
       "      <th>19859</th>\n",
       "    </tr>\n",
       "    <tr>\n",
       "      <th>44240</th>\n",
       "    </tr>\n",
       "  </tbody>\n",
       "</table></div>"
      ],
      "text/plain": [
       "Empty DataFrame\n",
       "Columns: []\n",
       "Index: [28227, 17317, 48740, 19859, 44240]"
      ]
     },
     "execution_count": 64,
     "metadata": {},
     "output_type": "execute_result"
    }
   ],
   "source": [
    "X_test_cat_le = pd.DataFrame(index = X_test_cat.index)\n",
    "\n",
    "X_test_cat_le.head()"
   ]
  },
  {
   "cell_type": "markdown",
   "id": "b441abc2",
   "metadata": {},
   "source": [
    "## New_data = To predict (output) of X_test_transform.loc[17317]"
   ]
  },
  {
   "cell_type": "code",
   "execution_count": 65,
   "id": "c21a049f",
   "metadata": {},
   "outputs": [
    {
     "data": {
      "text/plain": [
       "index      17356.00\n",
       "carat          1.01\n",
       "cut            2.00\n",
       "color          3.00\n",
       "clarity        5.00\n",
       "depth         62.60\n",
       "table         56.00\n",
       "x              6.41\n",
       "y              6.44\n",
       "z              4.02\n",
       "price       6964.00\n",
       "Name: 17317, dtype: float64"
      ]
     },
     "execution_count": 65,
     "metadata": {},
     "output_type": "execute_result"
    }
   ],
   "source": [
    "df.loc[17317]"
   ]
  },
  {
   "cell_type": "code",
   "execution_count": 66,
   "id": "be695227",
   "metadata": {},
   "outputs": [
    {
     "data": {
      "text/plain": [
       "index      16494.00\n",
       "carat          1.02\n",
       "cut            2.00\n",
       "color          3.00\n",
       "clarity        5.00\n",
       "depth         62.60\n",
       "table         56.00\n",
       "x              6.40\n",
       "y              6.44\n",
       "z              4.02\n",
       "price       6591.00\n",
       "Name: 16456, dtype: float64"
      ]
     },
     "execution_count": 66,
     "metadata": {},
     "output_type": "execute_result"
    }
   ],
   "source": [
    "df.loc[16456]"
   ]
  },
  {
   "cell_type": "code",
   "execution_count": 67,
   "id": "fbd9e6ae",
   "metadata": {},
   "outputs": [
    {
     "data": {
      "text/plain": [
       "index      17328.00\n",
       "carat          1.01\n",
       "cut            2.00\n",
       "color          3.00\n",
       "clarity        4.00\n",
       "depth         62.70\n",
       "table         56.00\n",
       "x              6.40\n",
       "y              6.35\n",
       "z              4.00\n",
       "price       6951.00\n",
       "Name: 17289, dtype: float64"
      ]
     },
     "execution_count": 67,
     "metadata": {},
     "output_type": "execute_result"
    }
   ],
   "source": [
    "df.loc[17289]"
   ]
  },
  {
   "cell_type": "code",
   "execution_count": 68,
   "id": "d904131f",
   "metadata": {},
   "outputs": [
    {
     "data": {
      "text/plain": [
       "index      13626.00\n",
       "carat          1.01\n",
       "cut            2.00\n",
       "color          3.00\n",
       "clarity        2.00\n",
       "depth         62.60\n",
       "table         56.00\n",
       "x              6.41\n",
       "y              6.44\n",
       "z              4.02\n",
       "price       5576.00\n",
       "Name: 13595, dtype: float64"
      ]
     },
     "execution_count": 68,
     "metadata": {},
     "output_type": "execute_result"
    }
   ],
   "source": [
    "df.loc[13595]"
   ]
  },
  {
   "cell_type": "code",
   "execution_count": 69,
   "id": "6530b516",
   "metadata": {},
   "outputs": [
    {
     "name": "stdout",
     "output_type": "stream",
     "text": [
      "predicted price of the Diamond:  6372.666666666667\n",
      "actual price of the Diamond:  6964.0\n"
     ]
    }
   ],
   "source": [
    "Mean = (6591 + 6951 + 5576)/ 3\n",
    "\n",
    "print('predicted price of the Diamond: ', Mean)\n",
    "print('actual price of the Diamond: ', df.loc[17317][-1])"
   ]
  },
  {
   "cell_type": "markdown",
   "id": "00ef5da1",
   "metadata": {},
   "source": [
    "## Make a Model for KNN Regression"
   ]
  },
  {
   "cell_type": "code",
   "execution_count": 80,
   "id": "ef362617",
   "metadata": {},
   "outputs": [],
   "source": [
    "#Importing KNN regressor class from neighbours module\n",
    "from sklearn.neighbors import KNeighborsRegressor\n",
    "from sklearn import neighbors"
   ]
  },
  {
   "cell_type": "code",
   "execution_count": 82,
   "id": "714b65fd",
   "metadata": {},
   "outputs": [],
   "source": [
    "model = neighbors.KNeighborsRegressor(n_neighbors = 3)"
   ]
  },
  {
   "cell_type": "code",
   "execution_count": 85,
   "id": "18960218",
   "metadata": {},
   "outputs": [],
   "source": [
    "x_t=X_train.iloc[:,[1,5,6,7,8,9,]]"
   ]
  },
  {
   "cell_type": "code",
   "execution_count": 86,
   "id": "f8cb5e36",
   "metadata": {},
   "outputs": [
    {
     "data": {
      "text/html": [
       "<div><div id=04f293dd-dc9b-49a6-a126-8364eae083fc style=\"display:none; background-color:#9D6CFF; color:white; width:200px; height:30px; padding-left:5px; border-radius:4px; flex-direction:row; justify-content:space-around; align-items:center;\" onmouseover=\"this.style.backgroundColor='#BA9BF8'\" onmouseout=\"this.style.backgroundColor='#9D6CFF'\" onclick=\"window.commands?.execute('create-mitosheet-from-dataframe-output');\">See Full Dataframe in Mito</div> <script> if (window.commands?.hasCommand('create-mitosheet-from-dataframe-output')) document.getElementById('04f293dd-dc9b-49a6-a126-8364eae083fc').style.display = 'flex' </script> <table border=\"1\" class=\"dataframe\">\n",
       "  <thead>\n",
       "    <tr style=\"text-align: right;\">\n",
       "      <th></th>\n",
       "      <th>carat</th>\n",
       "      <th>depth</th>\n",
       "      <th>table</th>\n",
       "      <th>x</th>\n",
       "      <th>y</th>\n",
       "      <th>z</th>\n",
       "    </tr>\n",
       "  </thead>\n",
       "  <tbody>\n",
       "    <tr>\n",
       "      <th>38568</th>\n",
       "      <td>0.30</td>\n",
       "      <td>61.1</td>\n",
       "      <td>55.0</td>\n",
       "      <td>4.36</td>\n",
       "      <td>4.38</td>\n",
       "      <td>2.67</td>\n",
       "    </tr>\n",
       "    <tr>\n",
       "      <th>6011</th>\n",
       "      <td>1.00</td>\n",
       "      <td>63.2</td>\n",
       "      <td>56.0</td>\n",
       "      <td>6.38</td>\n",
       "      <td>6.33</td>\n",
       "      <td>4.02</td>\n",
       "    </tr>\n",
       "    <tr>\n",
       "      <th>26438</th>\n",
       "      <td>0.70</td>\n",
       "      <td>63.4</td>\n",
       "      <td>57.0</td>\n",
       "      <td>8.00</td>\n",
       "      <td>7.93</td>\n",
       "      <td>5.05</td>\n",
       "    </tr>\n",
       "    <tr>\n",
       "      <th>28372</th>\n",
       "      <td>0.31</td>\n",
       "      <td>61.5</td>\n",
       "      <td>57.0</td>\n",
       "      <td>4.32</td>\n",
       "      <td>4.36</td>\n",
       "      <td>2.67</td>\n",
       "    </tr>\n",
       "    <tr>\n",
       "      <th>16578</th>\n",
       "      <td>1.21</td>\n",
       "      <td>60.2</td>\n",
       "      <td>58.0</td>\n",
       "      <td>6.93</td>\n",
       "      <td>6.88</td>\n",
       "      <td>4.16</td>\n",
       "    </tr>\n",
       "    <tr>\n",
       "      <th>...</th>\n",
       "      <td>...</td>\n",
       "      <td>...</td>\n",
       "      <td>...</td>\n",
       "      <td>...</td>\n",
       "      <td>...</td>\n",
       "      <td>...</td>\n",
       "    </tr>\n",
       "    <tr>\n",
       "      <th>45891</th>\n",
       "      <td>0.57</td>\n",
       "      <td>62.1</td>\n",
       "      <td>58.0</td>\n",
       "      <td>5.32</td>\n",
       "      <td>5.25</td>\n",
       "      <td>3.28</td>\n",
       "    </tr>\n",
       "    <tr>\n",
       "      <th>52416</th>\n",
       "      <td>0.70</td>\n",
       "      <td>62.1</td>\n",
       "      <td>57.0</td>\n",
       "      <td>5.66</td>\n",
       "      <td>5.70</td>\n",
       "      <td>3.53</td>\n",
       "    </tr>\n",
       "    <tr>\n",
       "      <th>42613</th>\n",
       "      <td>0.51</td>\n",
       "      <td>63.5</td>\n",
       "      <td>54.0</td>\n",
       "      <td>5.07</td>\n",
       "      <td>5.10</td>\n",
       "      <td>3.23</td>\n",
       "    </tr>\n",
       "    <tr>\n",
       "      <th>43567</th>\n",
       "      <td>0.58</td>\n",
       "      <td>61.2</td>\n",
       "      <td>57.0</td>\n",
       "      <td>5.38</td>\n",
       "      <td>5.41</td>\n",
       "      <td>3.30</td>\n",
       "    </tr>\n",
       "    <tr>\n",
       "      <th>2732</th>\n",
       "      <td>0.52</td>\n",
       "      <td>62.0</td>\n",
       "      <td>57.0</td>\n",
       "      <td>5.17</td>\n",
       "      <td>5.15</td>\n",
       "      <td>3.20</td>\n",
       "    </tr>\n",
       "  </tbody>\n",
       "</table></div>"
      ],
      "text/plain": [
       "       carat  depth  table     x     y     z\n",
       "38568   0.30   61.1   55.0  4.36  4.38  2.67\n",
       "6011    1.00   63.2   56.0  6.38  6.33  4.02\n",
       "26438   0.70   63.4   57.0  8.00  7.93  5.05\n",
       "28372   0.31   61.5   57.0  4.32  4.36  2.67\n",
       "16578   1.21   60.2   58.0  6.93  6.88  4.16\n",
       "...      ...    ...    ...   ...   ...   ...\n",
       "45891   0.57   62.1   58.0  5.32  5.25  3.28\n",
       "52416   0.70   62.1   57.0  5.66  5.70  3.53\n",
       "42613   0.51   63.5   54.0  5.07  5.10  3.23\n",
       "43567   0.58   61.2   57.0  5.38  5.41  3.30\n",
       "2732    0.52   62.0   57.0  5.17  5.15  3.20\n",
       "\n",
       "[40345 rows x 6 columns]"
      ]
     },
     "execution_count": 86,
     "metadata": {},
     "output_type": "execute_result"
    }
   ],
   "source": [
    "x_t"
   ]
  },
  {
   "cell_type": "code",
   "execution_count": 87,
   "id": "1f68d293",
   "metadata": {},
   "outputs": [
    {
     "data": {
      "text/html": [
       "<style>#sk-container-id-1 {color: black;background-color: white;}#sk-container-id-1 pre{padding: 0;}#sk-container-id-1 div.sk-toggleable {background-color: white;}#sk-container-id-1 label.sk-toggleable__label {cursor: pointer;display: block;width: 100%;margin-bottom: 0;padding: 0.3em;box-sizing: border-box;text-align: center;}#sk-container-id-1 label.sk-toggleable__label-arrow:before {content: \"▸\";float: left;margin-right: 0.25em;color: #696969;}#sk-container-id-1 label.sk-toggleable__label-arrow:hover:before {color: black;}#sk-container-id-1 div.sk-estimator:hover label.sk-toggleable__label-arrow:before {color: black;}#sk-container-id-1 div.sk-toggleable__content {max-height: 0;max-width: 0;overflow: hidden;text-align: left;background-color: #f0f8ff;}#sk-container-id-1 div.sk-toggleable__content pre {margin: 0.2em;color: black;border-radius: 0.25em;background-color: #f0f8ff;}#sk-container-id-1 input.sk-toggleable__control:checked~div.sk-toggleable__content {max-height: 200px;max-width: 100%;overflow: auto;}#sk-container-id-1 input.sk-toggleable__control:checked~label.sk-toggleable__label-arrow:before {content: \"▾\";}#sk-container-id-1 div.sk-estimator input.sk-toggleable__control:checked~label.sk-toggleable__label {background-color: #d4ebff;}#sk-container-id-1 div.sk-label input.sk-toggleable__control:checked~label.sk-toggleable__label {background-color: #d4ebff;}#sk-container-id-1 input.sk-hidden--visually {border: 0;clip: rect(1px 1px 1px 1px);clip: rect(1px, 1px, 1px, 1px);height: 1px;margin: -1px;overflow: hidden;padding: 0;position: absolute;width: 1px;}#sk-container-id-1 div.sk-estimator {font-family: monospace;background-color: #f0f8ff;border: 1px dotted black;border-radius: 0.25em;box-sizing: border-box;margin-bottom: 0.5em;}#sk-container-id-1 div.sk-estimator:hover {background-color: #d4ebff;}#sk-container-id-1 div.sk-parallel-item::after {content: \"\";width: 100%;border-bottom: 1px solid gray;flex-grow: 1;}#sk-container-id-1 div.sk-label:hover label.sk-toggleable__label {background-color: #d4ebff;}#sk-container-id-1 div.sk-serial::before {content: \"\";position: absolute;border-left: 1px solid gray;box-sizing: border-box;top: 0;bottom: 0;left: 50%;z-index: 0;}#sk-container-id-1 div.sk-serial {display: flex;flex-direction: column;align-items: center;background-color: white;padding-right: 0.2em;padding-left: 0.2em;position: relative;}#sk-container-id-1 div.sk-item {position: relative;z-index: 1;}#sk-container-id-1 div.sk-parallel {display: flex;align-items: stretch;justify-content: center;background-color: white;position: relative;}#sk-container-id-1 div.sk-item::before, #sk-container-id-1 div.sk-parallel-item::before {content: \"\";position: absolute;border-left: 1px solid gray;box-sizing: border-box;top: 0;bottom: 0;left: 50%;z-index: -1;}#sk-container-id-1 div.sk-parallel-item {display: flex;flex-direction: column;z-index: 1;position: relative;background-color: white;}#sk-container-id-1 div.sk-parallel-item:first-child::after {align-self: flex-end;width: 50%;}#sk-container-id-1 div.sk-parallel-item:last-child::after {align-self: flex-start;width: 50%;}#sk-container-id-1 div.sk-parallel-item:only-child::after {width: 0;}#sk-container-id-1 div.sk-dashed-wrapped {border: 1px dashed gray;margin: 0 0.4em 0.5em 0.4em;box-sizing: border-box;padding-bottom: 0.4em;background-color: white;}#sk-container-id-1 div.sk-label label {font-family: monospace;font-weight: bold;display: inline-block;line-height: 1.2em;}#sk-container-id-1 div.sk-label-container {text-align: center;}#sk-container-id-1 div.sk-container {/* jupyter's `normalize.less` sets `[hidden] { display: none; }` but bootstrap.min.css set `[hidden] { display: none !important; }` so we also need the `!important` here to be able to override the default hidden behavior on the sphinx rendered scikit-learn.org. See: https://github.com/scikit-learn/scikit-learn/issues/21755 */display: inline-block !important;position: relative;}#sk-container-id-1 div.sk-text-repr-fallback {display: none;}</style><div id=\"sk-container-id-1\" class=\"sk-top-container\"><div class=\"sk-text-repr-fallback\"><pre>KNeighborsRegressor(n_neighbors=3)</pre><b>In a Jupyter environment, please rerun this cell to show the HTML representation or trust the notebook. <br />On GitHub, the HTML representation is unable to render, please try loading this page with nbviewer.org.</b></div><div class=\"sk-container\" hidden><div class=\"sk-item\"><div class=\"sk-estimator sk-toggleable\"><input class=\"sk-toggleable__control sk-hidden--visually\" id=\"sk-estimator-id-1\" type=\"checkbox\" checked><label for=\"sk-estimator-id-1\" class=\"sk-toggleable__label sk-toggleable__label-arrow\">KNeighborsRegressor</label><div class=\"sk-toggleable__content\"><pre>KNeighborsRegressor(n_neighbors=3)</pre></div></div></div></div></div>"
      ],
      "text/plain": [
       "KNeighborsRegressor(n_neighbors=3)"
      ]
     },
     "execution_count": 87,
     "metadata": {},
     "output_type": "execute_result"
    }
   ],
   "source": [
    "model.fit(x_t, y_train)  #fit the model"
   ]
  },
  {
   "cell_type": "code",
   "execution_count": 90,
   "id": "e1f6f586",
   "metadata": {},
   "outputs": [],
   "source": [
    "X_test=X_test.iloc[:,[1,5,6,7,8,9]]"
   ]
  },
  {
   "cell_type": "code",
   "execution_count": 91,
   "id": "b7337ae0",
   "metadata": {},
   "outputs": [],
   "source": [
    "pred=model.predict(X_test) #make prediction on test set\n",
    "skl_acu=metrics.r2_score(y_test,pred)"
   ]
  },
  {
   "cell_type": "code",
   "execution_count": 92,
   "id": "c07aaa47",
   "metadata": {},
   "outputs": [
    {
     "name": "stdout",
     "output_type": "stream",
     "text": [
      "Accuracy score:  0.85\n"
     ]
    }
   ],
   "source": [
    "print(\"Accuracy score: \",skl_acu.round(2))"
   ]
  }
 ],
 "metadata": {
  "kernelspec": {
   "display_name": "Python 3 (ipykernel)",
   "language": "python",
   "name": "python3"
  },
  "language_info": {
   "codemirror_mode": {
    "name": "ipython",
    "version": 3
   },
   "file_extension": ".py",
   "mimetype": "text/x-python",
   "name": "python",
   "nbconvert_exporter": "python",
   "pygments_lexer": "ipython3",
   "version": "3.9.7"
  }
 },
 "nbformat": 4,
 "nbformat_minor": 5
}
